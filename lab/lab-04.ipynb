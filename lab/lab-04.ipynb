{
 "cells": [
  {
   "cell_type": "markdown",
   "id": "c0846540",
   "metadata": {},
   "source": [
    "# Lab 4\n",
    "## Pre class checklist\n",
    "Have you...\n",
    "\n",
    "* Completed the Lab 3 prelab worksheet?\n",
    "* Set up a new GitHub branch with this worksheet and the dataset (path on canvas: Files/datasets/BTSFlights2024/T_T100D_MARKET_US_CARRIER_ONLY_2025.csv ; OR check out the labs page and it will be linked there) inside it (name the branch `ca4`)?\n",
    "* Downloaded VSCode?\n",
    "\n",
    "**How you will be graded**\n",
    "\n",
    "This activity is out of 10 points. You will be graded on three things: completion, clear documentation, and correctness of your process.\n",
    "\n",
    "* *Completion (4pts)*: This is solely whether you attempted and completed all portions of the computational assignment.\n",
    "* *Documentation (4pts)*: Write comments above your code, describing what it does to demonstrate that you understand what the code is doing.\n",
    "* *Correctness (2pts)*: Does your code run and produce the correct output?\n"
   ]
  },
  {
   "cell_type": "markdown",
   "id": "2b56a3bd",
   "metadata": {},
   "source": [
    "# Playground!\n",
    "\n",
    "In this section you will be given a set of tasks to complete on your own, and you will have to figure out how to do them using the resources provided (videos, documentation, etc). This way you can learn at your own pace and also get used to looking up documentation and learning how to use new tools on your own.\n",
    "\n",
    "Note: We will have periodic check-ins through the class, just to make sure everyone atleast finishes a part of the activity before moving on!\n",
    "\n",
    "The very first task is to import the required packages, this lab we will work with ***arrays***, ***networks***, ***dataframes***, and ***plots***. (Hint: Packages are `numpy`, `networkx`, `polars`, and `matplotlib.pyplot`; Can you use comments to tell me what package is used to work with what?)\n",
    "\n",
    "Try importing the required libraries below (dont forget you can use the `as` keyword to give them a shorter alias):"
   ]
  },
  {
   "cell_type": "code",
   "execution_count": null,
   "id": "e1d3b6f7",
   "metadata": {},
   "outputs": [
    {
     "data": {
      "text/html": [
       "<div><style>\n",
       ".dataframe > thead > tr,\n",
       ".dataframe > tbody > tr {\n",
       "  text-align: right;\n",
       "  white-space: pre-wrap;\n",
       "}\n",
       "</style>\n",
       "<small>shape: (80_302, 8)</small><table border=\"1\" class=\"dataframe\"><thead><tr><th>PASSENGERS</th><th>UNIQUE_CARRIER</th><th>UNIQUE_CARRIER_NAME</th><th>ORIGIN_AIRPORT_ID</th><th>ORIGIN</th><th>DEST_AIRPORT_ID</th><th>DEST</th><th>YEAR</th></tr><tr><td>f64</td><td>str</td><td>str</td><td>i64</td><td>str</td><td>i64</td><td>str</td><td>i64</td></tr></thead><tbody><tr><td>0.0</td><td>&quot;1BQ&quot;</td><td>&quot;Eastern Airlines f/k/a Dynamic…</td><td>10540</td><td>&quot;BED&quot;</td><td>12339</td><td>&quot;IND&quot;</td><td>2025</td></tr><tr><td>0.0</td><td>&quot;1BQ&quot;</td><td>&quot;Eastern Airlines f/k/a Dynamic…</td><td>10747</td><td>&quot;BRO&quot;</td><td>13198</td><td>&quot;MCI&quot;</td><td>2025</td></tr><tr><td>0.0</td><td>&quot;1BQ&quot;</td><td>&quot;Eastern Airlines f/k/a Dynamic…</td><td>10792</td><td>&quot;BUF&quot;</td><td>13198</td><td>&quot;MCI&quot;</td><td>2025</td></tr><tr><td>0.0</td><td>&quot;1BQ&quot;</td><td>&quot;Eastern Airlines f/k/a Dynamic…</td><td>10821</td><td>&quot;BWI&quot;</td><td>12478</td><td>&quot;JFK&quot;</td><td>2025</td></tr><tr><td>0.0</td><td>&quot;1BQ&quot;</td><td>&quot;Eastern Airlines f/k/a Dynamic…</td><td>11066</td><td>&quot;CMH&quot;</td><td>11995</td><td>&quot;GSO&quot;</td><td>2025</td></tr><tr><td>&hellip;</td><td>&hellip;</td><td>&hellip;</td><td>&hellip;</td><td>&hellip;</td><td>&hellip;</td><td>&hellip;</td><td>&hellip;</td></tr><tr><td>80868.0</td><td>&quot;DL&quot;</td><td>&quot;Delta Air Lines Inc.&quot;</td><td>10397</td><td>&quot;ATL&quot;</td><td>13204</td><td>&quot;MCO&quot;</td><td>2025</td></tr><tr><td>81227.0</td><td>&quot;DL&quot;</td><td>&quot;Delta Air Lines Inc.&quot;</td><td>13204</td><td>&quot;MCO&quot;</td><td>10397</td><td>&quot;ATL&quot;</td><td>2025</td></tr><tr><td>81317.0</td><td>&quot;DL&quot;</td><td>&quot;Delta Air Lines Inc.&quot;</td><td>13204</td><td>&quot;MCO&quot;</td><td>10397</td><td>&quot;ATL&quot;</td><td>2025</td></tr><tr><td>84275.0</td><td>&quot;DL&quot;</td><td>&quot;Delta Air Lines Inc.&quot;</td><td>10397</td><td>&quot;ATL&quot;</td><td>13204</td><td>&quot;MCO&quot;</td><td>2025</td></tr><tr><td>84832.0</td><td>&quot;DL&quot;</td><td>&quot;Delta Air Lines Inc.&quot;</td><td>13204</td><td>&quot;MCO&quot;</td><td>10397</td><td>&quot;ATL&quot;</td><td>2025</td></tr></tbody></table></div>"
      ],
      "text/plain": [
       "shape: (80_302, 8)\n",
       "┌────────────┬───────────────┬───────────────┬───────────────┬────────┬──────────────┬──────┬──────┐\n",
       "│ PASSENGERS ┆ UNIQUE_CARRIE ┆ UNIQUE_CARRIE ┆ ORIGIN_AIRPOR ┆ ORIGIN ┆ DEST_AIRPORT ┆ DEST ┆ YEAR │\n",
       "│ ---        ┆ R             ┆ R_NAME        ┆ T_ID          ┆ ---    ┆ _ID          ┆ ---  ┆ ---  │\n",
       "│ f64        ┆ ---           ┆ ---           ┆ ---           ┆ str    ┆ ---          ┆ str  ┆ i64  │\n",
       "│            ┆ str           ┆ str           ┆ i64           ┆        ┆ i64          ┆      ┆      │\n",
       "╞════════════╪═══════════════╪═══════════════╪═══════════════╪════════╪══════════════╪══════╪══════╡\n",
       "│ 0.0        ┆ 1BQ           ┆ Eastern       ┆ 10540         ┆ BED    ┆ 12339        ┆ IND  ┆ 2025 │\n",
       "│            ┆               ┆ Airlines      ┆               ┆        ┆              ┆      ┆      │\n",
       "│            ┆               ┆ f/k/a         ┆               ┆        ┆              ┆      ┆      │\n",
       "│            ┆               ┆ Dynamic…      ┆               ┆        ┆              ┆      ┆      │\n",
       "│ 0.0        ┆ 1BQ           ┆ Eastern       ┆ 10747         ┆ BRO    ┆ 13198        ┆ MCI  ┆ 2025 │\n",
       "│            ┆               ┆ Airlines      ┆               ┆        ┆              ┆      ┆      │\n",
       "│            ┆               ┆ f/k/a         ┆               ┆        ┆              ┆      ┆      │\n",
       "│            ┆               ┆ Dynamic…      ┆               ┆        ┆              ┆      ┆      │\n",
       "│ 0.0        ┆ 1BQ           ┆ Eastern       ┆ 10792         ┆ BUF    ┆ 13198        ┆ MCI  ┆ 2025 │\n",
       "│            ┆               ┆ Airlines      ┆               ┆        ┆              ┆      ┆      │\n",
       "│            ┆               ┆ f/k/a         ┆               ┆        ┆              ┆      ┆      │\n",
       "│            ┆               ┆ Dynamic…      ┆               ┆        ┆              ┆      ┆      │\n",
       "│ 0.0        ┆ 1BQ           ┆ Eastern       ┆ 10821         ┆ BWI    ┆ 12478        ┆ JFK  ┆ 2025 │\n",
       "│            ┆               ┆ Airlines      ┆               ┆        ┆              ┆      ┆      │\n",
       "│            ┆               ┆ f/k/a         ┆               ┆        ┆              ┆      ┆      │\n",
       "│            ┆               ┆ Dynamic…      ┆               ┆        ┆              ┆      ┆      │\n",
       "│ 0.0        ┆ 1BQ           ┆ Eastern       ┆ 11066         ┆ CMH    ┆ 11995        ┆ GSO  ┆ 2025 │\n",
       "│            ┆               ┆ Airlines      ┆               ┆        ┆              ┆      ┆      │\n",
       "│            ┆               ┆ f/k/a         ┆               ┆        ┆              ┆      ┆      │\n",
       "│            ┆               ┆ Dynamic…      ┆               ┆        ┆              ┆      ┆      │\n",
       "│ …          ┆ …             ┆ …             ┆ …             ┆ …      ┆ …            ┆ …    ┆ …    │\n",
       "│ 80868.0    ┆ DL            ┆ Delta Air     ┆ 10397         ┆ ATL    ┆ 13204        ┆ MCO  ┆ 2025 │\n",
       "│            ┆               ┆ Lines Inc.    ┆               ┆        ┆              ┆      ┆      │\n",
       "│ 81227.0    ┆ DL            ┆ Delta Air     ┆ 13204         ┆ MCO    ┆ 10397        ┆ ATL  ┆ 2025 │\n",
       "│            ┆               ┆ Lines Inc.    ┆               ┆        ┆              ┆      ┆      │\n",
       "│ 81317.0    ┆ DL            ┆ Delta Air     ┆ 13204         ┆ MCO    ┆ 10397        ┆ ATL  ┆ 2025 │\n",
       "│            ┆               ┆ Lines Inc.    ┆               ┆        ┆              ┆      ┆      │\n",
       "│ 84275.0    ┆ DL            ┆ Delta Air     ┆ 10397         ┆ ATL    ┆ 13204        ┆ MCO  ┆ 2025 │\n",
       "│            ┆               ┆ Lines Inc.    ┆               ┆        ┆              ┆      ┆      │\n",
       "│ 84832.0    ┆ DL            ┆ Delta Air     ┆ 13204         ┆ MCO    ┆ 10397        ┆ ATL  ┆ 2025 │\n",
       "│            ┆               ┆ Lines Inc.    ┆               ┆        ┆              ┆      ┆      │\n",
       "└────────────┴───────────────┴───────────────┴───────────────┴────────┴──────────────┴──────┴──────┘"
      ]
     },
     "execution_count": 1,
     "metadata": {},
     "output_type": "execute_result"
    }
   ],
   "source": [
    "import polars as pl # Data slicing.\n",
    "import matplotlib.pyplot as plt # Data showing.\n",
    "import networkx as nx # Data networking.\n",
    "import numpy as np # Number magic.\n",
    "\n",
    "df = pl.read_csv('../data/bts-flights.csv')\n",
    "df"
   ]
  },
  {
   "cell_type": "markdown",
   "id": "a5fff116",
   "metadata": {},
   "source": [
    "Great! Now we will import our data into python. To do this we can use `pl.read_csv`, this function takes in the filepath as an argument and creates a dataframe. See the example below:\n",
    "\n",
    "Assuming the file is stored in the same folder as this lab notebook.\n",
    "\n",
    "```python\n",
    "df = pl.read_csv(\"data_to_read.csv\")\n",
    "print(df)\n",
    "```\n",
    "Try importing the flight data file you downloaded into python!\n",
    "\n",
    "Sidenote: \n",
    "\n",
    "**What is a filepath?** \n",
    "\n",
    "The file path for a document is the sequence of directories that the computer must navigate to find the item. The easiest way to do this is with the relative file path; where the file exists relative to the script you are running. Some examples: (1) For a file that exists in the same folder as your script, the filepath is simply `\"data_to_read.csv\"`, (2) for a file in the directory above, the filepath is `\"../data_to_read.csv\"`, and (3) for a file in a sub-directory of the directory that you're currently in (say it's `data`), the filepath is `\"data/data_to_read.csv.\"` We can combine (2) and (3); for example `\"../data/flight_data/data_to_read.csv\"` describes navigating up one directory, then going in the `data` directory, then the `flight_data` subfolder where the data is located.\n",
    "\n",
    "**Some info about the dataset**\n",
    "\n",
    "This dataset is a yearly snapshot of flights among all commercial airports in the United States in 2025. Data include number of passengers (PASSENGERS), the unique carrier name (UNIQUE_CARRIER_NAME), the origin airport code (ORIGIN), and the destination airport code (DEST). Data come from Bureau of Transportation Statistics. “T-100 Domestic Market” https://www.transtats.bts.gov/"
   ]
  },
  {
   "cell_type": "code",
   "execution_count": 2,
   "id": "8c16e22b",
   "metadata": {},
   "outputs": [],
   "source": [
    "# Already did this."
   ]
  },
  {
   "cell_type": "markdown",
   "id": "284a2198",
   "metadata": {},
   "source": [
    "Amazing! We now have out data loaded into python. We can look at the size of this datafram using `df.shape`, the size of this dataframe comes out to `(80302, 8)` which means that we have a whopping `80000` rows! Today we won't be working with such a large dataset, so the next goal is to filter the dataset to a manageable size.\n",
    "\n",
    "To do that we will use the `filter` function in polars. See the example below:\n",
    "\n",
    "```python\n",
    "df_filtered = df.filter((pl.col(\"UNIQUE_CARRIER_NAME\") == \"JetBlue Airways\") & (pl.col(\"PASSENGERS\") <= 500))\n",
    "print(df_filtered)\n",
    "```\n",
    "Here, we created a new dataframe `df_filtered` and filtered for only `JetBlue Airways` with `<= 500` (less than or equal to 500) passengers.\n",
    "\n",
    "Sidenote: For more clarity on `filter`, in Polars `df.filter` (where \"df\" gets replaced with the name of your dataframe) is how we choose to keep only the rows that satisfy our criteria. Its equivalent to asking our DataFrame a `yes-or-no` question for each row and only keeping those that satisfy the `\"yes\"` answer.\n",
    "\n",
    "Try filtering for an airline of your choice or just copy the example!\n"
   ]
  },
  {
   "cell_type": "code",
   "execution_count": 3,
   "id": "39cbddf8",
   "metadata": {},
   "outputs": [
    {
     "data": {
      "text/html": [
       "<div><style>\n",
       ".dataframe > thead > tr,\n",
       ".dataframe > tbody > tr {\n",
       "  text-align: right;\n",
       "  white-space: pre-wrap;\n",
       "}\n",
       "</style>\n",
       "<small>shape: (259, 8)</small><table border=\"1\" class=\"dataframe\"><thead><tr><th>PASSENGERS</th><th>UNIQUE_CARRIER</th><th>UNIQUE_CARRIER_NAME</th><th>ORIGIN_AIRPORT_ID</th><th>ORIGIN</th><th>DEST_AIRPORT_ID</th><th>DEST</th><th>YEAR</th></tr><tr><td>f64</td><td>str</td><td>str</td><td>i64</td><td>str</td><td>i64</td><td>str</td><td>i64</td></tr></thead><tbody><tr><td>0.0</td><td>&quot;B6&quot;</td><td>&quot;JetBlue Airways&quot;</td><td>10721</td><td>&quot;BOS&quot;</td><td>12391</td><td>&quot;ISP&quot;</td><td>2025</td></tr><tr><td>2.0</td><td>&quot;B6&quot;</td><td>&quot;JetBlue Airways&quot;</td><td>12478</td><td>&quot;JFK&quot;</td><td>12478</td><td>&quot;JFK&quot;</td><td>2025</td></tr><tr><td>20.0</td><td>&quot;B6&quot;</td><td>&quot;JetBlue Airways&quot;</td><td>12953</td><td>&quot;LGA&quot;</td><td>12478</td><td>&quot;JFK&quot;</td><td>2025</td></tr><tr><td>28.0</td><td>&quot;B6&quot;</td><td>&quot;JetBlue Airways&quot;</td><td>12197</td><td>&quot;HPN&quot;</td><td>12451</td><td>&quot;JAX&quot;</td><td>2025</td></tr><tr><td>32.0</td><td>&quot;B6&quot;</td><td>&quot;JetBlue Airways&quot;</td><td>10732</td><td>&quot;BQN&quot;</td><td>14843</td><td>&quot;SJU&quot;</td><td>2025</td></tr><tr><td>&hellip;</td><td>&hellip;</td><td>&hellip;</td><td>&hellip;</td><td>&hellip;</td><td>&hellip;</td><td>&hellip;</td><td>&hellip;</td></tr><tr><td>335.0</td><td>&quot;B6&quot;</td><td>&quot;JetBlue Airways&quot;</td><td>10721</td><td>&quot;BOS&quot;</td><td>10849</td><td>&quot;BZN&quot;</td><td>2025</td></tr><tr><td>358.0</td><td>&quot;B6&quot;</td><td>&quot;JetBlue Airways&quot;</td><td>12478</td><td>&quot;JFK&quot;</td><td>12197</td><td>&quot;HPN&quot;</td><td>2025</td></tr><tr><td>412.0</td><td>&quot;B6&quot;</td><td>&quot;JetBlue Airways&quot;</td><td>12892</td><td>&quot;LAX&quot;</td><td>11618</td><td>&quot;EWR&quot;</td><td>2025</td></tr><tr><td>450.0</td><td>&quot;B6&quot;</td><td>&quot;JetBlue Airways&quot;</td><td>11697</td><td>&quot;FLL&quot;</td><td>13296</td><td>&quot;MHT&quot;</td><td>2025</td></tr><tr><td>479.0</td><td>&quot;B6&quot;</td><td>&quot;JetBlue Airways&quot;</td><td>10732</td><td>&quot;BQN&quot;</td><td>14843</td><td>&quot;SJU&quot;</td><td>2025</td></tr></tbody></table></div>"
      ],
      "text/plain": [
       "shape: (259, 8)\n",
       "┌────────────┬───────────────┬───────────────┬───────────────┬────────┬──────────────┬──────┬──────┐\n",
       "│ PASSENGERS ┆ UNIQUE_CARRIE ┆ UNIQUE_CARRIE ┆ ORIGIN_AIRPOR ┆ ORIGIN ┆ DEST_AIRPORT ┆ DEST ┆ YEAR │\n",
       "│ ---        ┆ R             ┆ R_NAME        ┆ T_ID          ┆ ---    ┆ _ID          ┆ ---  ┆ ---  │\n",
       "│ f64        ┆ ---           ┆ ---           ┆ ---           ┆ str    ┆ ---          ┆ str  ┆ i64  │\n",
       "│            ┆ str           ┆ str           ┆ i64           ┆        ┆ i64          ┆      ┆      │\n",
       "╞════════════╪═══════════════╪═══════════════╪═══════════════╪════════╪══════════════╪══════╪══════╡\n",
       "│ 0.0        ┆ B6            ┆ JetBlue       ┆ 10721         ┆ BOS    ┆ 12391        ┆ ISP  ┆ 2025 │\n",
       "│            ┆               ┆ Airways       ┆               ┆        ┆              ┆      ┆      │\n",
       "│ 2.0        ┆ B6            ┆ JetBlue       ┆ 12478         ┆ JFK    ┆ 12478        ┆ JFK  ┆ 2025 │\n",
       "│            ┆               ┆ Airways       ┆               ┆        ┆              ┆      ┆      │\n",
       "│ 20.0       ┆ B6            ┆ JetBlue       ┆ 12953         ┆ LGA    ┆ 12478        ┆ JFK  ┆ 2025 │\n",
       "│            ┆               ┆ Airways       ┆               ┆        ┆              ┆      ┆      │\n",
       "│ 28.0       ┆ B6            ┆ JetBlue       ┆ 12197         ┆ HPN    ┆ 12451        ┆ JAX  ┆ 2025 │\n",
       "│            ┆               ┆ Airways       ┆               ┆        ┆              ┆      ┆      │\n",
       "│ 32.0       ┆ B6            ┆ JetBlue       ┆ 10732         ┆ BQN    ┆ 14843        ┆ SJU  ┆ 2025 │\n",
       "│            ┆               ┆ Airways       ┆               ┆        ┆              ┆      ┆      │\n",
       "│ …          ┆ …             ┆ …             ┆ …             ┆ …      ┆ …            ┆ …    ┆ …    │\n",
       "│ 335.0      ┆ B6            ┆ JetBlue       ┆ 10721         ┆ BOS    ┆ 10849        ┆ BZN  ┆ 2025 │\n",
       "│            ┆               ┆ Airways       ┆               ┆        ┆              ┆      ┆      │\n",
       "│ 358.0      ┆ B6            ┆ JetBlue       ┆ 12478         ┆ JFK    ┆ 12197        ┆ HPN  ┆ 2025 │\n",
       "│            ┆               ┆ Airways       ┆               ┆        ┆              ┆      ┆      │\n",
       "│ 412.0      ┆ B6            ┆ JetBlue       ┆ 12892         ┆ LAX    ┆ 11618        ┆ EWR  ┆ 2025 │\n",
       "│            ┆               ┆ Airways       ┆               ┆        ┆              ┆      ┆      │\n",
       "│ 450.0      ┆ B6            ┆ JetBlue       ┆ 11697         ┆ FLL    ┆ 13296        ┆ MHT  ┆ 2025 │\n",
       "│            ┆               ┆ Airways       ┆               ┆        ┆              ┆      ┆      │\n",
       "│ 479.0      ┆ B6            ┆ JetBlue       ┆ 10732         ┆ BQN    ┆ 14843        ┆ SJU  ┆ 2025 │\n",
       "│            ┆               ┆ Airways       ┆               ┆        ┆              ┆      ┆      │\n",
       "└────────────┴───────────────┴───────────────┴───────────────┴────────┴──────────────┴──────┴──────┘"
      ]
     },
     "execution_count": 3,
     "metadata": {},
     "output_type": "execute_result"
    }
   ],
   "source": [
    "df_filtered = df.filter((pl.col(\"UNIQUE_CARRIER_NAME\") == \"JetBlue Airways\") & (pl.col(\"PASSENGERS\") <= 500))\n",
    "df_filtered"
   ]
  },
  {
   "cell_type": "markdown",
   "id": "99617a0c",
   "metadata": {},
   "source": [
    "Now we will create a graph from our filtered dataset, for now we will only work with undirected graphs without multi-edges. This is because we only care about connectivity between airports. \n",
    "\n",
    "Note: On your own you can also try making a directed graph and doing the rest of the activities using that!\n",
    "\n",
    "So how do we create a graph from our dataframe? Have a look at the example below:\n",
    "\n",
    "```python\n",
    "G = nx.Graph()\n",
    "G.add_nodes_from(df_filtered['<Col Name>'])\n",
    "G.add_nodes_from(df_filtered['<Col Name>'])\n",
    "\n",
    "node_dict = {node: i for i, node in enumerate(list(G.nodes()))} # This is a complicated line of code, if you noticed our nodes would be strings of characters (like 'ATL') and not numbers. So when we go on to convet this graph into a adjacency matrix, we wont be able to just use the node name from edge list. A solution is to create a dictionary where each key is the node name and value is a number (imagine its an integer id for each airport). For this excercise please copy this code to create your graph.\n",
    "\n",
    "edge_list = df_filtered['<Col Name>', '<Col Name>'].iter_rows()\n",
    "\n",
    "G.add_edges_from(edge_list)\n",
    "nx.draw(G)\n",
    "```\n",
    "Note: For a directed graph you will need to create `nx.DiGraph()`.\n",
    "\n",
    "Today we want to focus on some more matrix stuff, so you can just copy the above code and use it to create your graph. But you will have to fill the column names yourself and comment this code for grading!"
   ]
  },
  {
   "cell_type": "code",
   "execution_count": 4,
   "id": "d0d3143a",
   "metadata": {},
   "outputs": [
    {
     "data": {
      "image/png": "[encoded data removed]",
      "text/plain": [
       "<Figure size 640x480 with 1 Axes>"
      ]
     },
     "metadata": {},
     "output_type": "display_data"
    }
   ],
   "source": [
    "G = nx.Graph()\n",
    "G.add_nodes_from(df_filtered['ORIGIN'])\n",
    "G.add_nodes_from(df_filtered['DEST'])\n",
    "\n",
    "node_dict = {node: i for i, node in enumerate(list(G.nodes()))} # This is a complicated line of code, if you noticed our nodes would be strings of characters (like 'ATL') and not numbers. So when we go on to convet this graph into a adjacency matrix, we wont be able to just use the node name from edge list. A solution is to create a dictionary where each key is the node name and value is a number (imagine its an integer id for each airport). For this excercise please copy this code to create your graph.\n",
    "\n",
    "edge_list = df_filtered['ORIGIN', 'DEST'].iter_rows()\n",
    "\n",
    "G.add_edges_from(edge_list)\n",
    "nx.draw(G, nx.spring_layout(G, k=0.3), with_labels = True, node_size = 50, font_size = 8, style = 'dotted')"
   ]
  },
  {
   "cell_type": "code",
   "execution_count": 5,
   "id": "8fdf70cc",
   "metadata": {},
   "outputs": [
    {
     "data": {
      "text/plain": [
       "[('BOS', 'ISP'),\n",
       " ('BOS', 'MIA'),\n",
       " ('BOS', 'ATL'),\n",
       " ('BOS', 'CHO'),\n",
       " ('BOS', 'RDU'),\n",
       " ('BOS', 'SYR'),\n",
       " ('BOS', 'PIT'),\n",
       " ('BOS', 'SBN'),\n",
       " ('BOS', 'BQN'),\n",
       " ('BOS', 'MKE'),\n",
       " ('BOS', 'SMF'),\n",
       " ('BOS', 'ILM'),\n",
       " ('BOS', 'ALB'),\n",
       " ('BOS', 'HDN'),\n",
       " ('BOS', 'PVD'),\n",
       " ('BOS', 'ORF'),\n",
       " ('BOS', 'EWR'),\n",
       " ('BOS', 'BWI'),\n",
       " ('BOS', 'PDX'),\n",
       " ('BOS', 'RSW'),\n",
       " ('BOS', 'ORH'),\n",
       " ('BOS', 'BZN'),\n",
       " ('JFK', 'JFK'),\n",
       " ('JFK', 'LGA'),\n",
       " ('JFK', 'PIT'),\n",
       " ('JFK', 'BDL'),\n",
       " ('JFK', 'PVD'),\n",
       " ('JFK', 'BZN'),\n",
       " ('JFK', 'DCA'),\n",
       " ('JFK', 'PHL'),\n",
       " ('JFK', 'HPN'),\n",
       " ('JFK', 'ABQ'),\n",
       " ('JFK', 'BUR'),\n",
       " ('JFK', 'ALB'),\n",
       " ('JFK', 'SMF'),\n",
       " ('JFK', 'RIC'),\n",
       " ('JFK', 'EWR'),\n",
       " ('JFK', 'DTW'),\n",
       " ('JFK', 'SEA'),\n",
       " ('JFK', 'OAK'),\n",
       " ('JFK', 'ONT'),\n",
       " ('JFK', 'ISP'),\n",
       " ('JFK', 'MHT'),\n",
       " ('JFK', 'LAX'),\n",
       " ('JFK', 'MSP'),\n",
       " ('JFK', 'PWM'),\n",
       " ('LGA', 'CHS'),\n",
       " ('LGA', 'BDL'),\n",
       " ('LGA', 'RSW'),\n",
       " ('LGA', 'TPA'),\n",
       " ('LGA', 'SJU'),\n",
       " ('LGA', 'SYR'),\n",
       " ('LGA', 'ACY'),\n",
       " ('LGA', 'RDU'),\n",
       " ('HPN', 'JAX'),\n",
       " ('HPN', 'EWR'),\n",
       " ('HPN', 'BDL'),\n",
       " ('HPN', 'ALB'),\n",
       " ('BQN', 'SJU'),\n",
       " ('BQN', 'RDU'),\n",
       " ('BQN', 'BDL'),\n",
       " ('EWR', 'OMA'),\n",
       " ('EWR', 'IND'),\n",
       " ('EWR', 'MDW'),\n",
       " ('EWR', 'PHL'),\n",
       " ('EWR', 'SAV'),\n",
       " ('EWR', 'CHS'),\n",
       " ('EWR', 'RIC'),\n",
       " ('EWR', 'ALB'),\n",
       " ('EWR', 'LAX'),\n",
       " ('EWR', 'MSY'),\n",
       " ('EWR', 'RDU'),\n",
       " ('MIA', 'MCO'),\n",
       " ('MIA', 'PBI'),\n",
       " ('ATL', 'BNA'),\n",
       " ('ATL', 'CHS'),\n",
       " ('ATL', 'SAV'),\n",
       " ('ATL', 'RDU'),\n",
       " ('ATL', 'RIC'),\n",
       " ('RDU', 'CHS'),\n",
       " ('RDU', 'MHT'),\n",
       " ('RDU', 'MCO'),\n",
       " ('RDU', 'PBI'),\n",
       " ('RDU', 'TPA'),\n",
       " ('SYR', 'ROC'),\n",
       " ('SYR', 'SAN'),\n",
       " ('SYR', 'BUF'),\n",
       " ('SYR', 'PBI'),\n",
       " ('SYR', 'SFO'),\n",
       " ('PIT', 'PVD'),\n",
       " ('JAX', 'CHS'),\n",
       " ('JAX', 'BDL'),\n",
       " ('JAX', 'RSW'),\n",
       " ('JAX', 'ORH'),\n",
       " ('JAX', 'MCO'),\n",
       " ('JAX', 'SFO'),\n",
       " ('CHS', 'MCO'),\n",
       " ('CHS', 'MLB'),\n",
       " ('CHS', 'RIC'),\n",
       " ('CHS', 'SJU'),\n",
       " ('FLL', 'SRQ'),\n",
       " ('FLL', 'MLB'),\n",
       " ('FLL', 'MCO'),\n",
       " ('FLL', 'EYW'),\n",
       " ('FLL', 'IAD'),\n",
       " ('FLL', 'SLC'),\n",
       " ('FLL', 'ABQ'),\n",
       " ('FLL', 'PHL'),\n",
       " ('FLL', 'TPA'),\n",
       " ('FLL', 'PBI'),\n",
       " ('FLL', 'RSW'),\n",
       " ('FLL', 'MHT'),\n",
       " ('PBI', 'RSW'),\n",
       " ('PBI', 'RIC'),\n",
       " ('PBI', 'MCO'),\n",
       " ('PBI', 'PHL'),\n",
       " ('PBI', 'PSE'),\n",
       " ('PBI', 'SJU'),\n",
       " ('PBI', 'BWI'),\n",
       " ('SFO', 'LAS'),\n",
       " ('SFO', 'BUF'),\n",
       " ('SFO', 'OAK'),\n",
       " ('SFO', 'ABQ'),\n",
       " ('SFO', 'TPA'),\n",
       " ('MCO', 'EYW'),\n",
       " ('MCO', 'IAD'),\n",
       " ('MCO', 'TPA'),\n",
       " ('MCO', 'ACY'),\n",
       " ('MCO', 'RSW'),\n",
       " ('ALB', 'RSW'),\n",
       " ('ALB', 'BDL'),\n",
       " ('ALB', 'SJU'),\n",
       " ('HDN', 'DEN'),\n",
       " ('HDN', 'SLC'),\n",
       " ('HDN', 'BUF'),\n",
       " ('GSO', 'SDF'),\n",
       " ('SCE', 'SJU'),\n",
       " ('SJU', 'LAF'),\n",
       " ('SJU', 'RIC'),\n",
       " ('SDF', 'CLT'),\n",
       " ('PVD', 'DTW'),\n",
       " ('MHT', 'RSW'),\n",
       " ('MKE', 'PHX'),\n",
       " ('IAH', 'CLE'),\n",
       " ('IAH', 'BDL'),\n",
       " ('IAH', 'AUS'),\n",
       " ('PHL', 'DCA'),\n",
       " ('PHL', 'LAS'),\n",
       " ('BWI', 'DCA'),\n",
       " ('BWI', 'IAD'),\n",
       " ('AUS', 'DFW'),\n",
       " ('AUS', 'BNA'),\n",
       " ('IAD', 'DCA'),\n",
       " ('BUF', 'LAX'),\n",
       " ('BUF', 'BDL'),\n",
       " ('LAX', 'ORD'),\n",
       " ('LAX', 'ONT'),\n",
       " ('LAX', 'CLE'),\n",
       " ('LAX', 'MSP'),\n",
       " ('TPA', 'SRQ'),\n",
       " ('TPA', 'BNA'),\n",
       " ('TPA', 'RIC'),\n",
       " ('TPA', 'DCA'),\n",
       " ('TPA', 'RSW'),\n",
       " ('GSP', 'COU'),\n",
       " ('DEN', 'ORD'),\n",
       " ('DEN', 'LAS'),\n",
       " ('DEN', 'BZN'),\n",
       " ('DCA', 'RIC'),\n",
       " ('DCA', 'TOL'),\n",
       " ('RSW', 'SRQ')]"
      ]
     },
     "execution_count": 5,
     "metadata": {},
     "output_type": "execute_result"
    }
   ],
   "source": [
    "[(i,j) for i,j in G.edges]"
   ]
  },
  {
   "cell_type": "markdown",
   "id": "5df8c2dc",
   "metadata": {},
   "source": [
    "Great! Now with this graph you should be able to create an adjacency matrix. Refactor the code from Lab 3 for this (`to_adj_v3`), create a function (name it `to_adj`) which take the graph AND the node dictinary (variable named `node_dict` in previous code cell) as the argument.\n",
    "\n",
    "Note: If you decided to work with a directed graph, then this function will need a few changes. Try and figure them out!\n",
    "\n",
    "Convert your graph to an adjacency matrix A."
   ]
  },
  {
   "cell_type": "code",
   "execution_count": 6,
   "id": "edf8a14c",
   "metadata": {},
   "outputs": [],
   "source": [
    "def to_adj(G, nd):\n",
    "\n",
    "    A = np.zeros((G.number_of_nodes(), G.number_of_nodes()))\n",
    "    edge_list = list(G.edges())\n",
    "    \n",
    "    for i,j in edge_list:\n",
    "        A[nd[i],nd[j]] = 1\n",
    "        A[nd[i],nd[j]] = 1\n",
    "    return A"
   ]
  },
  {
   "cell_type": "code",
   "execution_count": 7,
   "id": "0459ac56",
   "metadata": {},
   "outputs": [
    {
     "data": {
      "text/plain": [
       "array([[0., 0., 0., ..., 1., 0., 0.],\n",
       "       [0., 1., 1., ..., 1., 0., 0.],\n",
       "       [0., 0., 0., ..., 0., 0., 0.],\n",
       "       ...,\n",
       "       [0., 0., 0., ..., 0., 0., 0.],\n",
       "       [0., 0., 0., ..., 0., 0., 0.],\n",
       "       [0., 0., 0., ..., 0., 0., 0.]], shape=(80, 80))"
      ]
     },
     "execution_count": 7,
     "metadata": {},
     "output_type": "execute_result"
    }
   ],
   "source": [
    "A = to_adj(G, node_dict)\n",
    "A"
   ]
  },
  {
   "cell_type": "markdown",
   "id": "f38cfd36",
   "metadata": {},
   "source": [
    "Now we have our matrix! We can use the adjacency matrix and matrix multiplications to travel through a network. \n",
    "\n",
    "For now we think of an adjacency matrix as just representing the connections between nodes, but you can also think about it in terms of traversal. If you think about walking on a graph, each `1` in the adjacency matrix means you can reach that node in one step. \n",
    "\n",
    "Multiplying a matrix with itself ($A^2$) gives you the nodes you can reach in two steps. In the same way, $A^k$ gives you a matrix which tells you about the nodes you can reach in `k` steps.\n",
    "\n",
    "Lets try this with our adjacency matrix, use a loop to iteratively multiply the matrix by itself and run the loop `5` times. Print out the number of non-zero elements in the matrix for each iteration, this could represent how many new edges are reached with increase in # steps (To print the number of non-zero elements, you can use `np.count_nonzero()`).\n",
    "\n",
    "Hint: You will need to create a copy of you adjacency matrix which will change its value with each run of the loop, below is an example code for multiplying a single integer by itself, try and adapt it for matrices.\n",
    "\n",
    "```python\n",
    "a = 10 # our focal number\n",
    "b = a.copy() # copying a to b\n",
    "for i in range(10):\n",
    "    b = b * a # For each iteration I multiply my number by itself, b is what i get each time I multiply a with a.\n",
    "    print(b) # Printing the value of b each time.\n",
    "```"
   ]
  },
  {
   "cell_type": "markdown",
   "id": "c4304337",
   "metadata": {},
   "source": [
    "### Explanation\n",
    "We get a copy of the Adj Matrix $A$ so that we can modify it. I'm assuming by convention we call it $M$ for multiplication. We perform the matrix multiplication with the `@` which updates $M$ to be $A^{(i+2)}$. For example, in the first loop $(i=0)$, $M$ becomes $A \\times A = A^2$. \n",
    "\n",
    "We then count and print the non-zero elements."
   ]
  },
  {
   "cell_type": "code",
   "execution_count": 11,
   "id": "b1c65655",
   "metadata": {},
   "outputs": [
    {
     "name": "stdout",
     "output_type": "stream",
     "text": [
      "Number of non-zero elements after k steps:\n",
      "k = 2: 3\n",
      "k = 3: 3\n",
      "k = 4: 3\n",
      "k = 5: 3\n",
      "k = 6: 3\n"
     ]
    }
   ],
   "source": [
    "M = A.copy()\n",
    "print('Number of non-zero elements after k steps:')\n",
    "for i in range(5):\n",
    "    M = M @ A\n",
    "    print(f'k = {i + 2}: {np.count_nonzero(M)}')"
   ]
  },
  {
   "cell_type": "markdown",
   "id": "67c0e7cc",
   "metadata": {},
   "source": [
    "You might notice that sometimes after one iteration, an entry which was previously non-zero might end up becoming zero. These are what are called as cycles, imagine having a loop of 3 nodes, with one step you are just switching between the 3 nodes and stuck in a cycle even though you have already visited those nodes before.\n",
    "\n",
    "Then how do you tell when you have travelled to each node atleast once? Easy, you just add all your results, so you get a new matrix, say, $R = A + A^2 + A^3 + ... + A^N$. When this matrix has no non-zero elements, then that means you have travelled to each node atleast once."
   ]
  },
  {
   "cell_type": "code",
   "execution_count": 9,
   "id": "7a82d323",
   "metadata": {},
   "outputs": [
    {
     "name": "stdout",
     "output_type": "stream",
     "text": [
      "[[0 0 1]\n",
      " [1 0 0]\n",
      " [0 1 0]]\n",
      "[[1 0 0]\n",
      " [0 1 0]\n",
      " [0 0 1]]\n",
      "[[0 1 0]\n",
      " [0 0 1]\n",
      " [1 0 0]]\n",
      "[[0 0 1]\n",
      " [1 0 0]\n",
      " [0 1 0]]\n",
      "[[1 0 0]\n",
      " [0 1 0]\n",
      " [0 0 1]]\n"
     ]
    }
   ],
   "source": [
    "# Example code: Run as is\n",
    "import numpy as np\n",
    "# This code shows how a cycle of nodes can get you stuck\n",
    "A = np.array([[0, 1, 0], # node 1 is connected to node 2\n",
    "              [0, 0, 1], # node 2 is connected to node 3\n",
    "              [1, 0, 0]]) # node 3 is connected to node 1\n",
    "# Note that A is the adj matrix for a directed graph, its asymmetric\n",
    "M = A.copy()\n",
    "for i in range(5):\n",
    "    M = M @ A\n",
    "    print(M) # Notice how an element which was 1 before becomes 0? \n",
    "# Now you cant tell by looking at A^k that at that step you visited all the nodes atleast once."
   ]
  },
  {
   "cell_type": "markdown",
   "id": "6a3f85f3",
   "metadata": {},
   "source": [
    "Now you have to create a function where as you multiply in each iteration of your loop, you also add the results to another matrix `R`.\n",
    "\n",
    "Hint: You can initialise `R` using `A.copy()` as well."
   ]
  },
  {
   "cell_type": "markdown",
   "id": "0815c8b2",
   "metadata": {},
   "source": [
    "### Explanation\n",
    "Here, we get our current power of $A^k$ and save it as $M$. Then work on our Reachability matrix which we also start with a copy of $A$.\n",
    "\n",
    "Again, in loop, we calculate the next power of $A$, $(A^2, A^3, \\dots)$ then we add the result to $R$."
   ]
  },
  {
   "cell_type": "code",
   "execution_count": 12,
   "id": "52e8ad92",
   "metadata": {},
   "outputs": [
    {
     "name": "stdout",
     "output_type": "stream",
     "text": [
      "Number of non-zero elements in M (paths of a specific length k):\n",
      "k = 2: 3\n",
      "k = 3: 3\n",
      "k = 4: 3\n",
      "k = 5: 3\n",
      "k = 6: 3\n",
      "\n",
      "Total non-zero elements in the final reachability matrix R:\n",
      "9\n"
     ]
    }
   ],
   "source": [
    "M = A.copy()\n",
    "R = A.copy()\n",
    "\n",
    "print('Number of non-zero elements in M (paths of a specific length k):')\n",
    "for i in range(5):\n",
    "    M = M @ A\n",
    "    R = R + M\n",
    "    \n",
    "    print(f'k = {i+2}: {np.count_nonzero(M)}')\n",
    "\n",
    "print(\"\\nTotal non-zero elements in the final reachability matrix R:\")\n",
    "print(np.count_nonzero(R))"
   ]
  },
  {
   "cell_type": "markdown",
   "id": "b8a0d9cc",
   "metadata": {},
   "source": [
    "What does the matrix `R` without any `0s` even tell you? It tells you that you have visited each node atleast once by that step. The smallest step size which gives you a non-zero `R` is the diameter of your network!\n",
    "\n",
    "Lets create a function to do this! Create a function which takes an adjacency matrix as its argument. Have the function return the diameter of this network!\n",
    "\n",
    "Hint: You might have to use a `while` loop alongside a new function `np.all`. Search online for how to use them! If you get stuck call me over for help."
   ]
  },
  {
   "cell_type": "markdown",
   "id": "1497d7ba",
   "metadata": {},
   "source": [
    "### Explanation\n",
    "We want a function that calculates the diameter of a network when given its adjacency matrix. The diamter is the smallest $k$ for which $A + A^2 + \\dots + A^k$ has no zeroes.\n",
    "\n",
    "We're going to take in an `np.array` and return an `int`. "
   ]
  },
  {
   "cell_type": "code",
   "execution_count": 13,
   "id": "0d5c99fc",
   "metadata": {},
   "outputs": [],
   "source": [
    "def find_diameter(adj_matrix):\n",
    "\n",
    "    M = adj_matrix.copy()\n",
    "    R = adj_matrix.copy()\n",
    "\n",
    "    diameter = 1 # We can initialize this as 1 since we've already included A in R. \n",
    "\n",
    "    # Loop as long as there is a zero in the matrix `R` (we use `np.all()`) as suggeted.\n",
    "    while not np.all(R > 0) and diameter <= adj_matrix.shape[0]:\n",
    "        M = M @ adj_matrix\n",
    "        R = R + M\n",
    "\n",
    "        diameter += 1\n",
    "    \n",
    "    # If the loop finished cause break then then the graph is disconnected.\n",
    "    if not np.all(R > 0):\n",
    "        return float('infinity')\n",
    "    \n",
    "    return diameter"
   ]
  },
  {
   "cell_type": "code",
   "execution_count": 14,
   "id": "c35ac64e",
   "metadata": {},
   "outputs": [
    {
     "name": "stdout",
     "output_type": "stream",
     "text": [
      "The diameter of the JetBlue network is: 3\n"
     ]
    }
   ],
   "source": [
    "print(f'The diameter of the JetBlue network is: {find_diameter(A)}')"
   ]
  },
  {
   "cell_type": "markdown",
   "id": "c7d96349",
   "metadata": {},
   "source": [
    "# Extra Credit\n",
    "Lets now try and find the eigenvector for our network! The principal Eigenvector of an adjacency matrix can be thought of as another way to measure centrality. The degree of a node tells you how many nodes are connected to it, but the eigenvector centrality of a node tells you how many nodes it connects to and how influential these neighbours are (so it is high for nodes whose neighbours also have high degrees).\n",
    "\n",
    "We can approximate this vector using loops and numpy, lets approach the problem one step at a time. \n",
    "\n",
    "Big NOTE: The following stuff is EXTRA CREDIT!!!! I will outline the steps of finding the principal eigenvector for an adjacency matrix, but after that you are on your own. The rubric for extra credit is as follows:\n",
    "* Completion (0.5 Pts): If you just attempt it, you get 0.5 extra credit.\n",
    "* Documentation (0.5 Pts): Comment your code properly and get 0.5 more point!\n",
    "* Correctness (1 Pts): If the output is correct then amazing! You get 1 more point.\n",
    "\n",
    "# Steps\n",
    "\n",
    "1. To start approximating our eigenvector we fist need to create an initial approximation. Simplest approximation is to just have a vector of ones. So use `np.ones` to create a vector with shape `(n, 1)` where n is number of nodes in our graph/adj matrix.\n",
    "2. Normalize this initial approximation (to find the norm you can use `np.linalg.norm()`)\n",
    "3. Loop for a certain number of iterations (for starters you can use `25` iterations).\n",
    "4. In each iteration, calculate `v = A @ v`, here `v` is our approximation.\n",
    "5. Record its norm in a list and then normalize the vector.\n",
    "6. repeat for the number of iterations.\n",
    "7. In the end plot the list of norms as a graph, which step did your eigenvector converge on?\n"
   ]
  },
  {
   "cell_type": "code",
   "execution_count": null,
   "id": "15b90aee",
   "metadata": {},
   "outputs": [
    {
     "name": "stdout",
     "output_type": "stream",
     "text": [
      "Approx. Principal Eigenvector\n",
      "[[0.57735027]\n",
      " [0.57735027]\n",
      " [0.57735027]]\n"
     ]
    }
   ],
   "source": [
    "# Create an initial vector of ones.\n",
    "n = A.shape[0]\n",
    "v = np.ones((n, 1))\n",
    "\n",
    "# Normalize this (we can do with an in-built function).\n",
    "v_norm = np.linalg.norm(v)\n",
    "v = v / v_norm\n",
    "\n",
    "# Store the norm at every step.\n",
    "\n",
    "ev_approx = []\n",
    "\n",
    "for i in range(25):\n",
    "    v = A @ v\n",
    "    v_norm = np.linalg.norm(v)\n",
    "    ev_approx.append(v_norm)\n",
    "\n",
    "    v = v / v_norm\n",
    "\n",
    "print('Approx. Principal Eigenvector')\n",
    "print(v)"
   ]
  },
  {
   "cell_type": "code",
   "execution_count": 20,
   "id": "1b8551ee",
   "metadata": {},
   "outputs": [
    {
     "data": {
      "image/png": "[encoded data removed]",
      "text/plain": [
       "<Figure size 1000x600 with 1 Axes>"
      ]
     },
     "metadata": {},
     "output_type": "display_data"
    },
    {
     "name": "stdout",
     "output_type": "stream",
     "text": [
      "\n",
      "The eigenvalue converged to approximately: 1.0000\n"
     ]
    }
   ],
   "source": [
    "# Plot list of norms to see convergence\n",
    "\n",
    "plt.figure(figsize = (10, 6))\n",
    "plt.plot(ev_approx)\n",
    "plt.title('Convergence of the Principal Eigenvalue')\n",
    "plt.xlabel('Iteration')\n",
    "plt.ylabel('Eigenvalue Approx (Norm)')\n",
    "plt.grid(True)\n",
    "plt.show()\n",
    "\n",
    "print(f'\\nThe eigenvalue converged to approximately: {ev_approx[-1]:.4f}')\n"
   ]
  },
  {
   "cell_type": "markdown",
   "id": "b8b1b2ec",
   "metadata": {},
   "source": [
    "Not sure if this is what I should be getting. There should be a convergence but it seems to always have been there from iterate 0. There is some mistake probably in the ordering on when I normalize but I can't seem to get it right."
   ]
  },
  {
   "cell_type": "markdown",
   "id": "3ff406e0",
   "metadata": {},
   "source": [
    "**After the completion of this lab**\n",
    "1. List the people with whom you worked on this lab.\n",
    "2. Make a pull request and title it \"Grade Computational Activity 2\".\n",
    "3. Assign @AbhayGupta115 as a reviewer.\n",
    "4. Submit the pull request.\n",
    "5. Go to Canvas, and submit a link to your PR (Just copy the url on the PR page) under the assignments tab."
   ]
  },
  {
   "cell_type": "code",
   "execution_count": null,
   "id": "59e1c910",
   "metadata": {},
   "outputs": [],
   "source": []
  }
 ],
 "metadata": {
  "kernelspec": {
   "display_name": "biol4559",
   "language": "python",
   "name": "python3"
  },
  "language_info": {
   "codemirror_mode": {
    "name": "ipython",
    "version": 3
   },
   "file_extension": ".py",
   "mimetype": "text/x-python",
   "name": "python",
   "nbconvert_exporter": "python",
   "pygments_lexer": "ipython3",
   "version": "3.13.5"
  }
 },
 "nbformat": 4,
 "nbformat_minor": 5
}
