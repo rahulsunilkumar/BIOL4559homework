{
 "cells": [
  {
   "cell_type": "markdown",
   "id": "63509112",
   "metadata": {},
   "source": [
    "# Lab 1\n",
    "\n",
    "**Goal**: The goal of this lab will be to get a Jupyter notebook running, build/visualize/measure some basic networks using XGI/NetworkX, and compute some basic statistics!\n",
    "\n",
    "**Before we get started**:\n",
    "1. Make a BIOL4559homework repository on GitHub. Add Abhay Gupta (@AbhayGupta115) as a collaborator in the Settings tab on GitHub.\n",
    "2. In GitHub Desktop, make a branch titled `comp-activity-1`.\n",
    "3. Put this notebook in the repository.\n",
    "4. Create a conda environment titled `biol4559` by running `conda create -n biol4559 python=3.13`\n",
    "5. Activate your conda environment by running `conda activate biol4559`\n",
    "6. Download the requirements file from Canvas (in the `labs` folder under `Files`) and place it in the repository.\n",
    "7. Install the list of requirements by running `pip install -r requirements.txt`\n",
    "8. Make your environment visible to Jupyter Notebook by running `python -m ipykernel install --user --name biol4559 --display-name \"Python (BIOL4559)\"` in the command line.\n",
    "\n",
    "**After the completion of this lab**\n",
    "1. List the people with whom you worked on this lab.\n",
    "2. Make a pull request and title it \"Grade Computational Activity 1\".\n",
    "3. Assign @AbhayGupta115 as a reviewer.\n",
    "4. Submit the pull request.\n",
    "\n",
    "**How you will be graded**\n",
    "\n",
    "This activity is out of 10 points. You will be graded on two things: completion, clear documentation, and correctness of your process.\n",
    "\n",
    "* *Completion (4pts)*: This is solely whether you attempted and completed all portions of the computational assignment.\n",
    "* *Documentation (4pts)*: Write comments above your code, describing what it does to demonstrate that you understand what the code is doing. ** Examples of good and bad documentation below.\n",
    "* *Correctness (2pts)*: Does your code run and produce the correct output?\n",
    "\n",
    "**Documentation examples**\n",
    "\n",
    "Good example:\n",
    "```python\n",
    "# import necessary packages\n",
    "import networkx as nx\n",
    "\n",
    "# create an empty network\n",
    "G = nx.Graph()\n",
    "\n",
    "# add nodes 1, 2, and 3 to the network from a list.\n",
    "G.add_nodes_from([1, 2, 3])\n",
    "\n",
    "# add edges to the network from a list of the edges\n",
    "G.add_edges_from([[1, 2], [2, 3]])\n",
    "\n",
    "# Visualize the network\n",
    "nx.draw(G)\n",
    "```\n",
    "\n",
    "Bad example:\n",
    "```python\n",
    "# Build and draw a network\n",
    "import networkx as nx\n",
    "G = nx.Graph()\n",
    "G.add_nodes_from([1, 2, 3])\n",
    "G.add_edges_from([[1, 2], [2, 3]])\n",
    "nx.draw(G)\n",
    "```"
   ]
  },
  {
   "cell_type": "markdown",
   "id": "d71f5c3c",
   "metadata": {},
   "source": [
    "## NetworkX"
   ]
  },
  {
   "cell_type": "markdown",
   "id": "25c32300",
   "metadata": {},
   "source": [
    "Let's start by learning how to work with NetworkX! NetworkX is probably the most popular package for working with networks.\n",
    "\n",
    "We import networkx:"
   ]
  },
  {
   "cell_type": "code",
   "execution_count": null,
   "id": "2f845a27",
   "metadata": {},
   "outputs": [],
   "source": []
  },
  {
   "cell_type": "markdown",
   "id": "74b74ca2",
   "metadata": {},
   "source": [
    "We start by creating an empty network ( or *graph*):"
   ]
  },
  {
   "cell_type": "code",
   "execution_count": null,
   "id": "22898ca4",
   "metadata": {},
   "outputs": [],
   "source": []
  },
  {
   "cell_type": "markdown",
   "id": "2bcf2ed5",
   "metadata": {},
   "source": [
    "Let's suppose that we want to add nodes and edges to this network. G is what is known as an *object* and we use the \".\" operator to access methods that work on graph objects. (I like to think of *objects* as nouns, and *methods* or *functions* as verbs)\n",
    "\n",
    "We can use the `add_node` and `add_edge` methods to add nodes and edges to this network:"
   ]
  },
  {
   "cell_type": "code",
   "execution_count": null,
   "id": "d7598da5",
   "metadata": {},
   "outputs": [],
   "source": []
  },
  {
   "cell_type": "markdown",
   "id": "9a3ed5f6",
   "metadata": {},
   "source": [
    "We can also add multiple nodes and edges at a time!"
   ]
  },
  {
   "cell_type": "code",
   "execution_count": null,
   "id": "2f05ff56",
   "metadata": {},
   "outputs": [],
   "source": []
  },
  {
   "cell_type": "markdown",
   "id": "d71427df",
   "metadata": {},
   "source": [
    "Let's visualize this network:"
   ]
  },
  {
   "cell_type": "code",
   "execution_count": null,
   "id": "f4d5567d",
   "metadata": {},
   "outputs": [],
   "source": []
  },
  {
   "cell_type": "markdown",
   "id": "90847fd6",
   "metadata": {},
   "source": [
    "We can look at the NetworkX [documentation](https://networkx.org/documentation/stable/) to find other methods.\n",
    "\n",
    "But before we get started, let's talk about `list` and `dict`.\n",
    "\n",
    "What is a list? It is an array of numbers (For example, `l = [1, 2, 3]`), and you can (1) access entries inside by their *index* (For example, `l[0] = 1`) and (2) you can add entries to the end of a list with the `append` method (For example, after running `l.append(4)`, we get `l = [1, 2, 3, 4]`).\n",
    "\n",
    "What is a dict? It is a combination of *key*, *value* pairs (For example, `d = {\"node1\": 1, \"node2\": 3, \"node3\": 7}`), and you can (1) access entries inside by their *key* (For example, `d[\"node1\"] = 1`) and (2) you can add entries to the dictionary with an \"=\" (For example, after running `d[\"node4\"] = 2`, we get `d = {\"node1\": 1, \"node2\": 3, \"node3\": 7, \"node4\": 4}`)\n",
    "\n",
    "Lastly, what if you want to iterate over a list of things? The `for` loop is your friend! We can iterate over entries in a list:\n",
    "```python\n",
    "l = [1, 3, 4]\n",
    "for i in l:\n",
    "    print(i)\n",
    "```\n",
    "(which will print out `1, 3, 4`) or we can iterate over a pre-specified range:\n",
    "```python\n",
    "\n",
    "for i in range(4):\n",
    "    print(i)\n",
    "```\n",
    "(which will print out `0, 1, 2, 3`).\n",
    "\n",
    "**Graded activity**\n",
    "\n",
    "Search the documentation and implement the following:\n",
    "\n",
    "* Load the Zachary Karate Club network. How many nodes and edges does it have?\n",
    "* Check whether the network is connected or not.\n",
    "* Get the degree of each node. Who has the highest degree (and what is their degree)? Who has the lowest degree (and what is their degree)?\n",
    "* Get the mean degree.\n",
    "* Visualize the network. (*Ungraded:* If you want to be fancy, play around with node layouts!)"
   ]
  },
  {
   "cell_type": "markdown",
   "id": "b484ce40",
   "metadata": {},
   "source": [
    "**Student short answer here**"
   ]
  },
  {
   "cell_type": "markdown",
   "id": "19ac2510",
   "metadata": {},
   "source": [
    "## XGI"
   ]
  },
  {
   "cell_type": "markdown",
   "id": "e87793f9",
   "metadata": {},
   "source": [
    "Okay, that's NetworkX. What about XGI? XGI stands for Comple**X** **G**roup **I**nteractions and can not only handle networks (or graphs), but also *hypergraphs* which are composed of group interactions. We won't get into the details quite yet, but for now, all you need to know is this: you can also build/represent/visualize networks with XGI.\n",
    "\n",
    "We start by importing XGI:"
   ]
  },
  {
   "cell_type": "code",
   "execution_count": null,
   "id": "f0af189d",
   "metadata": {},
   "outputs": [],
   "source": []
  },
  {
   "cell_type": "markdown",
   "id": "150e4b2b",
   "metadata": {},
   "source": [
    "XGI has much of the same syntax for adding nodes and edges. See below:"
   ]
  },
  {
   "cell_type": "code",
   "execution_count": null,
   "id": "d3376095",
   "metadata": {},
   "outputs": [],
   "source": []
  },
  {
   "cell_type": "markdown",
   "id": "348860f3",
   "metadata": {},
   "source": [
    "And adding multiple nodes/edges..."
   ]
  },
  {
   "cell_type": "code",
   "execution_count": null,
   "id": "9f705b9c",
   "metadata": {},
   "outputs": [],
   "source": []
  },
  {
   "cell_type": "markdown",
   "id": "6e00105c",
   "metadata": {},
   "source": [
    "Now let's draw what we have!"
   ]
  },
  {
   "cell_type": "code",
   "execution_count": null,
   "id": "7fa5737a",
   "metadata": {},
   "outputs": [],
   "source": []
  },
  {
   "cell_type": "markdown",
   "id": "679534d7",
   "metadata": {},
   "source": [
    "XGI can color/size nodes by their statistics. Here I'm accessing the nodes of the network and getting their degree:"
   ]
  },
  {
   "cell_type": "code",
   "execution_count": null,
   "id": "6a080bff",
   "metadata": {},
   "outputs": [],
   "source": []
  },
  {
   "cell_type": "markdown",
   "id": "b37b20bf",
   "metadata": {},
   "source": [
    "Everything that you need is on the XGI [website](https://xgi.readthedocs.io) for tutorials, documentation, and examples.\n",
    "\n",
    "**Graded activity**\n",
    "\n",
    "* Load the Zachary's Karate Club dataset in NetworkX and convert to a xgi.Hypergraph. Hint: you'll need to use `G.edges` and convert it to a list.\n",
    "* Compute the clustering coefficient of each node. Who has the highest clustering coefficient (and what is it)? Who has the lowest clustering coefficient (and what is it)?\n",
    "* What is the density of the network?\n",
    "* Visualize the network with the nodes sized by their clustering coefficient."
   ]
  },
  {
   "cell_type": "markdown",
   "id": "6f86e9d4",
   "metadata": {},
   "source": [
    "**Student short response here**"
   ]
  },
  {
   "cell_type": "markdown",
   "id": "480fa7d0",
   "metadata": {},
   "source": [
    "Fun (**ungraded**) challenge problem:\n",
    "\n",
    "Go to the [Budapest Reference Connectome 3.0](https://pitgroup.org/connectome/) and download the edge list. Import the data as a pandas (or polars) dataframe and use the first two columns as an edge list to import into NetworkX. Visualize this network. What are some features of this network that you notice?"
   ]
  }
 ],
 "metadata": {
  "kernelspec": {
   "display_name": "biol4559",
   "language": "python",
   "name": "python3"
  },
  "language_info": {
   "codemirror_mode": {
    "name": "ipython",
    "version": 3
   },
   "file_extension": ".py",
   "mimetype": "text/x-python",
   "name": "python",
   "nbconvert_exporter": "python",
   "pygments_lexer": "ipython3",
   "version": "3.13.5"
  }
 },
 "nbformat": 4,
 "nbformat_minor": 5
}
