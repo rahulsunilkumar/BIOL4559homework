{
 "cells": [
  {
   "cell_type": "markdown",
   "id": "23ff43de",
   "metadata": {},
   "source": [
    "# Please do the following before coming to lab:\n",
    "\n",
    "1. Watch the pre-class video on python (link: https://youtu.be/Ro_MScTDfU4?si=eKwFy99_ih1eUWUP\n",
    ") and go through this \"worksheet\" (it's just examples with empty code cells for you to experiment)on numpy.\n",
    "2. Complete the pre-class concept check based on the video and the worksheet.\n",
    "3. Get your GitHub repository set up for lab 3 by \n",
    "    * Creating a new branch called `ca3` \n",
    "    * Putting the required lab files in this branch (this worksheet + the in-class worksheet when it is uploaded).\n",
    "\n",
    "By the time you come to lab, you should be able to just open VSCode and get started with the in-class worksheet.\n"
   ]
  },
  {
   "cell_type": "markdown",
   "id": "ed6721c8",
   "metadata": {},
   "source": [
    "# Concept Check\n",
    "\n",
    "In the video they created a chatbox, let's try to do that here. Follow these rules:\n",
    "1. When you say \"hi\" or \"hello\", the bot should respond with \"Hello! How can I help you today?\"\n",
    "2. When you say \"bye\" or \"goodbye\", the bot should respond with \"Goodbye! Have a great day!\"\n",
    "3. For any other input, the bot should respond with \"I'm sorry, I didn't understand that.\"\n"
   ]
  },
  {
   "cell_type": "code",
   "execution_count": null,
   "id": "ab7aa3bc",
   "metadata": {
    "vscode": {
     "languageId": "plaintext"
    }
   },
   "outputs": [],
   "source": []
  },
  {
   "cell_type": "markdown",
   "id": "117f8c5a",
   "metadata": {},
   "source": [
    "*This guide has been taken from the official documentation of NumPy, the goal is to only introduce the functions and topics important right now. If you want to, you can learn more at: https://numpy.org/doc/stable/user/absolute_beginners.html*\n",
    "\n",
    "*Please watch the python introduction video before starting this worksheet (It's ungraded, so go nuts with the code).*\n",
    "\n",
    "# Numpy\n",
    "\n",
    "NumPy (Numerical Python) is an open source Python library that’s widely used in science and engineering. The NumPy library contains multidimensional array data structures, such as the homogeneous, N-dimensional ndarray, and a large library of functions that operate efficiently on these data structures.\n",
    "\n",
    "You will already have numpy installed through the requirements.txt file. You can import the library as follows:\n",
    "\n",
    "```python\n",
    "import numpy as np\n",
    "```\n",
    "\n",
    "Try it out in the cell below:"
   ]
  },
  {
   "cell_type": "code",
   "execution_count": null,
   "id": "621be455",
   "metadata": {
    "vscode": {
     "languageId": "plaintext"
    }
   },
   "outputs": [],
   "source": []
  },
  {
   "cell_type": "markdown",
   "id": "c500571e",
   "metadata": {},
   "source": [
    "## How to read example code\n",
    "\n",
    "You might see code snippets like this in the examples below:\n",
    "\n",
    "```python\n",
    "# Create a 1D array\n",
    ">>> a = np.array([[0, 1, 2, 3],\n",
    "...               [4, 5, 6, 7]])\n",
    ">>> a.shape\n",
    "(2, 4)\n",
    "```\n",
    "Text preceded by `>>>` or `...` is the input, so the code that you will put in your code cells. Everything else is the output that you will see when you run the code. Please note that `>>>` and `...` are not part of the code, and could cause an error if copied into the code cells. \n",
    "\n",
    "Try and run the above code in the cell below, you should get the output `(2, 4)`."
   ]
  },
  {
   "cell_type": "code",
   "execution_count": null,
   "id": "31a25481",
   "metadata": {
    "vscode": {
     "languageId": "plaintext"
    }
   },
   "outputs": [],
   "source": []
  },
  {
   "cell_type": "markdown",
   "id": "5394b70a",
   "metadata": {},
   "source": [
    "## Why NumPy?\n",
    "Python lists are excellent, general-purpose containers. They can be “heterogeneous”, meaning that they can contain elements of a variety of types (for e.g. `l = [1, \"A\", 3, \"B\"]`), and they are quite fast when used to perform individual operations on a handful of elements.\n",
    "\n",
    "Depending on the data and the types of operations that need to be performed, other containers may be more appropriate; they can improve speed, reduce memory consumption, and offer a high-level syntax for performing a variety of common processing tasks. NumPy shines when there are large quantities of “homogeneous” (same-type) data to be processed on the CPU.\n",
    "\n",
    "NumPy uses arrays as its basic data structure.\n",
    "\n",
    "### What is an array?\n",
    "In computer programming, an array is a structure for storing and retrieving data. We often talk about an array as if it were a grid in space, with each cell storing one element of the data. For instance, if each element of the data were a number, we might visualize a “one-dimensional” array like a list:\n",
    "\n",
    "```python\n",
    "[ 0, 1, 2, 3]\n",
    "```\n",
    "A 2D array would be like a table or matrix:\n",
    "\n",
    "```python\n",
    "[[ 0, 1, 2, 3 ],\n",
    " [ 4, 5, 6, 7 ],\n",
    " [ 8, 9,10,11 ]]\n",
    "```\n",
    "A 3D array would be like a cube of data, or perhaps like a stack of tables or matrices (imagine you stack pieces of paper each with a 2D array on it). In general, an array can have any number of dimensions, so the fundamental array class is called `ndarray`: representing an \"N-dimensional array\".\n",
    "\n",
    "Arrays have some restrictions:\n",
    "* All elements of the array must be of the same type of data.\n",
    "* Once created, the total size of the array can’t change (unlike lists, where you can append elements).\n",
    "* The shape must be “rectangular”, not “jagged”; e.g., each row of a two-dimensional array must have the same number of columns.\n",
    "\n",
    "When these conditions are met, NumPy exploits these characteristics to make the array faster, more memory efficient, and more convenient to use than less restrictive data structures.\n",
    "\n",
    "For the remainder of this document, we will use the word “array” to refer to an instance of `ndarray`."
   ]
  },
  {
   "cell_type": "markdown",
   "id": "7217f8b2",
   "metadata": {},
   "source": [
    "# Array fundamentals\n",
    "\n",
    "One way to initialize an array is using a Python sequence, such as a list. For example:\n",
    "\n",
    "```python\n",
    ">>> a = np.array([1, 2, 3, 4, 5, 6])\n",
    ">>> a\n",
    "array([1, 2, 3, 4, 5, 6])\n",
    "```\n",
    "\n",
    "Elements of an array can be accesed using square brackets with the element index (starting from 0 for the first element), just like lists:\n",
    "\n",
    "```python\n",
    ">>> a[0]\n",
    "1\n",
    "```\n",
    "Try creating an array and accessing its elements in the cell below (try accessing elements at different indices):"
   ]
  },
  {
   "cell_type": "code",
   "execution_count": null,
   "id": "391b2aa6",
   "metadata": {
    "vscode": {
     "languageId": "plaintext"
    }
   },
   "outputs": [],
   "source": []
  },
  {
   "cell_type": "markdown",
   "id": "3ede63b6",
   "metadata": {},
   "source": [
    "Also like the original list, arrays are mutable, meaning that the contents can be changed after the array is created (although the size of the array can’t be changed). For example:\n",
    "\n",
    "```python\n",
    ">>> a[3] = 10\n",
    ">>> a\n",
    "array([1,  2,  3,  10,  5,  6])\n",
    "```\n",
    "Two- and higher-dimensional arrays can be created using nested sequences (lists of lists, or lists of lists of lists, and so on). For example:\n",
    "\n",
    "```python\n",
    ">>> a = np.array([[1, 2, 3, 4], [5, 6, 7, 8], [9, 10, 11, 12]])\n",
    ">>> a\n",
    "array([[ 1,  2,  3,  4],\n",
    "       [ 5,  6,  7,  8],\n",
    "       [ 9, 10, 11, 12]])\n",
    "```\n",
    "To access elements of a multi-dimensional array, you use a comma-separated list of indices (You cant do the same in lists, you have to use multiple square brackets to list all the indices). For example:\n",
    "\n",
    "```python\n",
    ">>> a[1, 2]\n",
    "7\n",
    "```\n",
    "Try creating a 2D array and accessing its elements in the cell below (try accessing elements at different indices):"
   ]
  },
  {
   "cell_type": "code",
   "execution_count": null,
   "id": "6d8663d0",
   "metadata": {
    "vscode": {
     "languageId": "plaintext"
    }
   },
   "outputs": [],
   "source": []
  },
  {
   "cell_type": "markdown",
   "id": "27621d59",
   "metadata": {},
   "source": [
    "# Array attributes\n",
    "\n",
    "Here we will cover how to access the properties or attributes of an array. We will cover `ndim`, `shape`, `size`, and `dtype`.\n",
    "\n",
    "The number of dimensions of an array is contained in the `ndim` attribute.\n",
    "```python\n",
    ">>> a = np.array([[0, 1, 2, 3],\n",
    "...               [4, 5, 6, 7]])\n",
    ">>> a.ndim\n",
    "2\n",
    "```\n",
    "\n",
    "The shape of an array is contained in the `shape` attribute. The shape is a tuple of integers giving the size of the array along each dimension (for e.g. the 2D array above with 2 rows and 4 columns will have a shape of `(2, 4)`).\n",
    "\n",
    "```python\n",
    ">>> a.shape\n",
    "(2, 4)\n",
    ">>> len(a.shape) == a.ndim\n",
    "True\n",
    "```\n",
    "The length of this tuple is therefore the number of dimensions, and the values in the tuple give the size of the array along each dimension.\n",
    "\n",
    "The total number of elements of the array is contained in the `size` attribute. It is equal to the product of the elements of the shape tuple.\n",
    "\n",
    "```python\n",
    ">>> a.size\n",
    "8\n",
    ">>> a.shape[0] * a.shape[1] == a.size\n",
    "True\n",
    "```\n",
    "The data type of the elements in the array is contained in the `dtype` attribute. NumPy arrays contain elements all of the same type, and this type is specified by a special object called a `dtype` (data-type) object. Some common examples of data types are `int` (integer), `float` (floating-point number), and `bool` (Boolean: True or False).\n",
    "\n",
    "```python\n",
    ">>> a.dtype\n",
    "dtype('int64')\n",
    "```\n",
    "Try creating an array and accessing its attributes in the cell below:"
   ]
  },
  {
   "cell_type": "code",
   "execution_count": null,
   "id": "6226ff3c",
   "metadata": {
    "vscode": {
     "languageId": "plaintext"
    }
   },
   "outputs": [],
   "source": []
  },
  {
   "cell_type": "markdown",
   "id": "935a0210",
   "metadata": {},
   "source": [
    "# Creating basic arrays\n",
    "We can create arrays of different types using built in functions rather than using lists. Here are some examples:\n",
    "\n",
    "To create an array which is filled with zeros, we can use the `np.zeros()` function. The argument to this function is a tuple specifying the shape of the array.\n",
    "\n",
    "```python\n",
    ">>> np.zeros((3, 4))\n",
    "array([[0., 0., 0., 0.],\n",
    "       [0., 0., 0., 0.],\n",
    "       [0., 0., 0., 0.]])\n",
    "```\n",
    "\n",
    "we can do the same with ones using the `np.ones()` function:\n",
    "\n",
    "```python\n",
    ">>> np.ones(2)\n",
    "array([1., 1.])\n",
    ">>> np.ones((2, 3))\n",
    "array([[1., 1., 1.],\n",
    "       [1., 1., 1.]])\n",
    "```\n",
    "\n",
    "We can even create an empty array using the `np.empty()` function. The values in the array will be whatever happens to already exist at that memory location, so they will be random and unpredictable.\n",
    "\n",
    "```python\n",
    ">>> np.empty(2)\n",
    "array([3.14, 42.]) # random values\n",
    "```\n",
    "Why would you use `np.empty()` over `np.zeros()`? If later you are going to fill every element of the array with a new value anyway, then using `np.empty()` is slightly faster because it doesn’t have to first set all the values to zero.\n",
    "\n",
    "You can create an array with a range of values using the `np.arange()` function. This is similar to the built-in Python function `range()`, but returns an array rather than a list. The arguments to this function are the start value (inclusive), the end value (exclusive), and the step size.\n",
    "\n",
    "```python\n",
    ">>> np.arange(10)\n",
    "array([0, 1, 2, 3, 4, 5, 6, 7, 8, 9])\n",
    ">>> np.arange(1, 10, 2)\n",
    "array([1, 3, 5, 7, 9])\n",
    ">>> np.arange(0, 1, 0.1)\n",
    "array([0. , 0.1, 0.2, 0.3, 0.4, 0.5, 0.6, 0.7, 0.8, 0.9])\n",
    "```\n",
    "\n",
    "Alternatively, you can create an array with a specified number of values evenly spaced between a start and end value using the `np.linspace()` function. The arguments to this function are the start value, the end value, and the number of values to generate.\n",
    "\n",
    "```python\n",
    ">>> np.linspace(0, 1, 5)\n",
    "array([0.  , 0.25, 0.5 , 0.75, 1.  ])\n",
    ">>> np.linspace(0, 10, 5)\n",
    "array([ 0. ,  2.5,  5. ,  7.5, 10. ])\n",
    "```\n",
    "## Specifying the data type\n",
    "The default data type of the elements in an array is `float` (floating-point number). However, you can specify a different data type using the `dtype` argument to the array creation functions. For example:\n",
    "\n",
    "```python\n",
    ">>> np.ones(3, dtype=int)\n",
    "array([1, 1, 1]) # notice the lack of decimal points\n",
    ">>> np.ones((2, 3), dtype=bool)\n",
    "array([[ True,  True,  True],\n",
    "       [ True,  True,  True]]) # Because 1 is interpreted as True and 0 as False\n",
    "``` \n",
    "\n",
    "Try creating arrays of differnt types using the above functions in the cell below:"
   ]
  },
  {
   "cell_type": "code",
   "execution_count": null,
   "id": "9fe2299e",
   "metadata": {
    "vscode": {
     "languageId": "plaintext"
    }
   },
   "outputs": [],
   "source": []
  },
  {
   "cell_type": "markdown",
   "id": "5a9b2611",
   "metadata": {},
   "source": [
    "# Concept Check\n",
    "Create a list of lists with 3 rows and 4 columns (think of it as a 3x4 matrix). Then convert this list of lists into a numpy array. Finally, extract the second column from this numpy array and print it."
   ]
  },
  {
   "cell_type": "code",
   "execution_count": null,
   "id": "ff00206a",
   "metadata": {
    "vscode": {
     "languageId": "plaintext"
    }
   },
   "outputs": [],
   "source": []
  }
 ],
 "metadata": {
  "language_info": {
   "name": "python"
  }
 },
 "nbformat": 4,
 "nbformat_minor": 5
}
