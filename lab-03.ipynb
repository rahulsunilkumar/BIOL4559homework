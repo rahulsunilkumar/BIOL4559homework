{
 "cells": [
  {
   "cell_type": "markdown",
   "id": "15c591f6",
   "metadata": {},
   "source": [
    "# Pre class checklist\n",
    "Have you...\n",
    "\n",
    "* Watched the pre-class video on Python (link: https://youtu.be/Ro_MScTDfU4?si=eKwFy99_ih1eUWUP) and looked through the \"worksheet\" on Numpy?\n",
    "* Completed the pre-class concept check based on the video and the worksheet?\n",
    "* Set up a new GitHub branch with this worksheet inside it?\n",
    "* Downloaded VSCode?\n",
    "\n",
    "**How you will be graded**\n",
    "\n",
    "This activity is out of 10 points. You will be graded on three things: completion, clear documentation, and correctness of your process.\n",
    "\n",
    "* *Completion (4pts)*: This is solely whether you attempted and completed all portions of the computational assignment.\n",
    "* *Documentation (4pts)*: Write comments above your code, describing what it does to demonstrate that you understand what the code is doing.\n",
    "* *Correctness (2pts)*: Does your code run and produce the correct output?\n"
   ]
  },
  {
   "cell_type": "markdown",
   "id": "d82bc09d",
   "metadata": {},
   "source": [
    "# Lets start from the start\n",
    "\n",
    "From this lab onwards we have a new section called the `Playground`, this section replaces the demo + graded activity part of the lab. The idea is that you will be given a set of tasks to complete on your own, and you will have to figure out how to do them using the resources provided (videos, documentation, etc). This way you can learn at your own pace and also get used to looking up documentation and learning how to use new tools on your own.\n",
    "\n",
    "We WANT collaboration, so feel free to work with your classmates, whenever your table or group gets stuck on something or get an error then please call me (TA) over, I will help you out. But please try to figure it out on your own first, my job is to help you guys fix your OWN code and not give out solutions. Don't be afraid of experimenting, even the best coders out there make mistakes and throw hundereds of errors in a single project (My personal record is 100+ for fixing a single bug). The more you experiment the better you will get at coding.\n",
    "\n",
    "PS: You can use the internet!\n",
    "\n",
    "I have tried to give you all the information needed for the coding tasks alongside some examples, the tasks will range from just copying the code and changing the arguments to creating specific funtions for performing a task. The idea is to get you comfortable with looking up documentation and learning how to use new tools on your own. In the end of the class we will do a reverse demo, where I will ask tables to give their approach for each task and we will discuss the different solutions.\n",
    "\n",
    "Good luck and have fun!"
   ]
  },
  {
   "cell_type": "markdown",
   "id": "589f9ea6",
   "metadata": {},
   "source": [
    "# Playground!\n",
    "In this section you will be given a set of tasks to complete on your own, and you will have to figure out how to do them using the resources provided (videos, documentation, etc). This way you can learn at your own pace and also get used to looking up documentation and learning how to use new tools on your own.\n",
    "\n",
    "The very first task is to import the required packages, we will be working with ***arrays*** and ***networks***. Can you figure out which packages we need to import and how to import them?\n",
    "\n",
    "Try importning them below (dont forget you can use the `as` keyword to give them a shorter alias):"
   ]
  },
  {
   "cell_type": "code",
   "execution_count": null,
   "id": "c7283ef5",
   "metadata": {},
   "outputs": [],
   "source": []
  },
  {
   "cell_type": "markdown",
   "id": "f37f9cfa",
   "metadata": {},
   "source": [
    "Did you get an error? If yes, try to figure out what the error means and how to fix it (Google is an amazing resource, out of all the results look for stack overflow links, there are some crazy good people which answer all sorts of queries over there). If you are stuck, call me (TA) over and I will help you figure it out.\n",
    "\n",
    "If you have successfully imported the packages, then great job! Now lets move on to the next task.\n",
    "\n",
    "To work with adjacency matrices, we first need to create them. Lets start with a very simple way of doing so, imagine you already have an edge list (so a list of lists where each inner list represents an edge between two nodes) and an empty adjacency matrix (a matrix of zeros).\n",
    "\n",
    "With these two things available I can write some code to fill the adjacency matrix. Have a look at the code below!\n",
    "\n",
    "```python\n",
    "A = np.zeros((4,4)) # Already have an empty adjacency matrix\n",
    "for i, j in [[0,1],[0,2],[1,2],[2,3]]: # Loop through each edge pair in my edge list\n",
    "    A[i, j] = 1 # Whats happening right here?\n",
    "    A[j, i] = 1 # Whats happening right here? Why are we doing this twice?\n",
    "```\n",
    "\n",
    "Try running the code and printing the adjacency matrix `A` to see what it looks like. Does it look correct to you? "
   ]
  },
  {
   "cell_type": "code",
   "execution_count": null,
   "id": "ab2161b2",
   "metadata": {},
   "outputs": [],
   "source": []
  },
  {
   "cell_type": "markdown",
   "id": "94a8d02d",
   "metadata": {},
   "source": [
    "Now its your turn! This way of coding is really tiresome, what if someone asks you to do the same thing but with a different size matrix or a different edge list? You would have to change the code everytime! Can you think of a way to make this code more modular and reusable? Try to write a function which takes in an edge list and the size of the matrix as arguments and returns the adjacency matrix.\n",
    "\n",
    "Your task: Write a function named `to_adj_v1` which takes in two arguments: an edge list and an empty adjaceny matrix. The function should return the filled adjacency matrix.\n",
    "\n",
    "(Hint: Look at the video we sent in the preclass material, there is a section about functions)\n",
    "\n",
    "When you are done, check the answer against the following values (define these values in a code cell and then put them as your arguments to the function, can you tell if your function is working correctly? maybe create the adjacency matrix manually and see if it matches the output of your function?):\n",
    "\n",
    "```python\n",
    "A = np.zeros((7,7))\n",
    "edge_list = [[0,1], [1,4], [2,6], [3,2], [6,1], [5,0], [4,3]]\n",
    "```\n"
   ]
  },
  {
   "cell_type": "code",
   "execution_count": null,
   "id": "bc7587d3",
   "metadata": {},
   "outputs": [],
   "source": []
  },
  {
   "cell_type": "markdown",
   "id": "b87783b5",
   "metadata": {},
   "source": [
    "Did it work? If not, try to debug it on your own, remember you guys are a team, work together and try different approaches. If you are still stuck, call me (TA) over and I will help you figure it out.\n",
    "\n",
    "Now for the second task we will take away some of the information you have, this time you will only be given the edge list and the size of the matrix. You will have to create the empty adjacency matrix on your own and then fill it using the edge list. This should be a small change to the function you wrote above, but it will make your function more reusable.\n",
    "\n",
    "Try it out! Check your answer against the same values as above (name the function `to_adj_v2`).\n",
    "\n",
    "\n",
    "```python\n",
    "n = 7\n",
    "edge_list = [[0,1], [1,4], [2,6], [3,2], [6,1], [5,0], [4,3]]\n",
    "```\n"
   ]
  },
  {
   "cell_type": "code",
   "execution_count": null,
   "id": "6c355c32",
   "metadata": {},
   "outputs": [],
   "source": []
  },
  {
   "cell_type": "markdown",
   "id": "a1fe0714",
   "metadata": {},
   "source": [
    "Cool! Now you have a function which can convert an edge list to an adjacency matrix. But what if you are given a graph object instead of an edge list? Can you modify your function to take in a graph object and return the adjacency matrix? This will make your function amazingly reusable, you can use it for any graph object you create using networkx! (or xgi if you want some extra challenge). \n",
    "\n",
    "Hint: Can you use a method from the graph object to get the edge list and the number of nodes?\n",
    "\n",
    "Check your answer against the Zachary karate club graph (you can use the networkx built in function to get the graph object). No examples cuz you guys already worked on it in lab 1.\n",
    "\n",
    "Name your function `to_adj_v3`\n"
   ]
  },
  {
   "cell_type": "code",
   "execution_count": null,
   "id": "010f6fc1",
   "metadata": {},
   "outputs": [],
   "source": []
  },
  {
   "cell_type": "markdown",
   "id": "e37f637f",
   "metadata": {},
   "source": [
    "Amazing! You have successfully created a function which can convert a graph object to an adjacency matrix. This little function can be super useful, for really big networks sometimes its easier to work with adjacency matrices instead of graph objects, because operations on matrices can be faster and more efficient than operations on graph objects.\n",
    "\n",
    "Now lets use this adjacency matrix to calculate some network statistics. Let's start with the degree of each node. The degree of a node is simply the number of connections it has to other nodes. In an adjacency matrix, you can calculate the degree of each node by summing up the values in each row. You can use the `sum` function to do this. Try it out below, calculate the degree of each node in the Zachary karate club graph using the adjacency matrix you created above.\n",
    "\n",
    "To help you out, here is an example of how to use the `sum` function (along with loops) to calculate the sum of each row in a matrix:\n",
    "\n",
    "```python\n",
    "A = np.array([[0,1,1],\n",
    "              [1,0,0],\n",
    "              [1,0,0]])\n",
    "degrees = []\n",
    "for i in range(A.shape[0]): # Looping for each row in the array (A.shape[0] gives the number of rows)\n",
    "    degrees.append(sum(A[i])) # Sum the values in the row and append to the degrees list\n",
    "print(degrees) # Print the degrees list\n",
    "```\n",
    "\n",
    "The above function is no different than what you would do with lists, but NumPy has some really cool built in functions which can make your life easier. Can you figure out how to use the `sum` function from NumPy to calculate the degree of each node without using loops? (Hint: Look at the documentation for the `sum` function, there is a parameter called `axis` which can be really useful here).\n",
    "\n",
    "Try using `np.sum` to calculate the degree using your adjacency matrix from above.\n",
    "\n",
    "Also try and create a function `list_degrees_v1` for the same, it should take a graph object as its argument. Hint: You can reuse your other functions!"
   ]
  },
  {
   "cell_type": "code",
   "execution_count": null,
   "id": "9c892203",
   "metadata": {},
   "outputs": [],
   "source": []
  },
  {
   "cell_type": "markdown",
   "id": "580b37d2",
   "metadata": {},
   "source": [
    "The code with `np.sum` should be much shorter and cleaner than the one with loops. If you are stuck, try looking at the documentation or call me (TA) over and I will help you figure it out.\n",
    "\n",
    "NumPy also allows you to perform matrix multiplication (or array multiplication in this case). Let's calculate the degree of each node using matrix multiplication. To do this, we can multiply the adjacency matrix by a column vector of ones. This will give us the same result as summing each row, but using matrix multiplication instead.\n",
    "\n",
    "To perform matrix multiplication in NumPy, you can use the `@` operator.\n",
    "\n",
    "for example (using a random example):\n",
    "```python\n",
    "A = np.array([[0,1,1],\n",
    "              [1,0,0],\n",
    "              [1,0,0]])\n",
    "degrees = A @ np.ones((A.shape[0], 1)) # Matrix multiplication of A and a column vector of ones\n",
    "# Notice how we used the shape of A to define the shape of the column vector of ones, this makes our code more reusable.\n",
    "print(degrees) # Print the degrees\n",
    "```\n",
    "Note: The output (`degrees` list) will be a 2D array (even though it only has one column), if you want to convert it to a 1D array you can use the `flatten` method (e.g. `degrees.flatten()`).\n",
    "\n",
    "Try using matrix multiplication to calculate the degree of each node in the Zachary karate club graph using your adjacency matrix from above (can you yet again create a function like the previous task? Try it out, call it `list_degrees_v2` which takes graph object as an argument)."
   ]
  },
  {
   "cell_type": "code",
   "execution_count": null,
   "id": "5d8f4c96",
   "metadata": {},
   "outputs": [],
   "source": []
  },
  {
   "cell_type": "markdown",
   "id": "1d82078e",
   "metadata": {},
   "source": [
    "Great! Now you have calculated the degree of each node using two different methods. But what about the average degree of the network? Can you figure out how to calculate the average degree using the degrees you calculated above? (Hint: Average degree is simply the sum of all degrees divided by the number of nodes).\n",
    "\n",
    "But what if you want to calculate the average degree using only the adjacency matrix? Can you figure out how to do that? (Hint: You can use matrix multiplication again, think about how you can use a row vector of ones and a column vector of ones to get the sum of all degrees).\n",
    "\n",
    "Try out both the methods below and see if you get the same answer. Let us know which method you found easier to implement and why."
   ]
  },
  {
   "cell_type": "code",
   "execution_count": null,
   "id": "0ce00a5b",
   "metadata": {},
   "outputs": [],
   "source": []
  },
  {
   "cell_type": "markdown",
   "id": "2a270eeb",
   "metadata": {},
   "source": [
    "Amazing work guys! Throughout this lab you learned how to create functions, how to work with numpy arrays and how to perform matrix operations. You also learned how to convert between different representations of networks (edge list, graph object, adjacency matrix) and how to calculate some basic network statistics using adjacency matrices.\n",
    "\n",
    "Now its time for a little challenge! Can you figure out how to calculate the density of the network using the adjacency matrix (assume our network was a simple undirected graph)? No hints this time, try to figure it out on your own."
   ]
  },
  {
   "cell_type": "code",
   "execution_count": null,
   "id": "9cf31bfa",
   "metadata": {},
   "outputs": [],
   "source": [
    "\n"
   ]
  },
  {
   "cell_type": "markdown",
   "id": "4b656fe6",
   "metadata": {},
   "source": [
    "# Optional Challenge Questions (ungraded):\n",
    "Try to create a function which returns an incidence matrix and takes a graph object as its argument. (Hint: Would getting an edge list help?)\n",
    "\n",
    "Can you go one-step further and create the incidence matrix only taking the adjacency matrix as your argument?"
   ]
  },
  {
   "cell_type": "code",
   "execution_count": null,
   "id": "abc6ac87",
   "metadata": {},
   "outputs": [],
   "source": []
  },
  {
   "cell_type": "markdown",
   "id": "97b4e1f2",
   "metadata": {},
   "source": [
    "**After the completion of this lab**\n",
    "1. List the people with whom you worked on this lab.\n",
    "2. Make a pull request and title it \"Grade Computational Activity 2\".\n",
    "3. Assign @AbhayGupta115 as a reviewer.\n",
    "4. Submit the pull request.\n",
    "5. Go to Canvas, and submit a link to your PR (Just copy the url on the PR page) under the assignments tab."
   ]
  },
  {
   "cell_type": "markdown",
   "id": "e72872c8",
   "metadata": {},
   "source": []
  }
 ],
 "metadata": {
  "kernelspec": {
   "display_name": "biol4559",
   "language": "python",
   "name": "python3"
  },
  "language_info": {
   "codemirror_mode": {
    "name": "ipython",
    "version": 3
   },
   "file_extension": ".py",
   "mimetype": "text/x-python",
   "name": "python",
   "nbconvert_exporter": "python",
   "pygments_lexer": "ipython3",
   "version": "3.13.5"
  }
 },
 "nbformat": 4,
 "nbformat_minor": 5
}
