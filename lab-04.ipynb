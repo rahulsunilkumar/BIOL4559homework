{
 "cells": [
  {
   "cell_type": "markdown",
   "id": "c0846540",
   "metadata": {},
   "source": [
    "# Lab 4\n",
    "## Pre class checklist\n",
    "Have you...\n",
    "\n",
    "* Completed the Lab 3 prelab worksheet?\n",
    "* Set up a new GitHub branch with this worksheet and the dataset (path on canvas: Files/datasets/BTSFlights2024/T_T100D_MARKET_US_CARRIER_ONLY_2025.csv ; OR check out the labs page and it will be linked there) inside it (name the branch `ca4`)?\n",
    "* Downloaded VSCode?\n",
    "\n",
    "**How you will be graded**\n",
    "\n",
    "This activity is out of 10 points. You will be graded on three things: completion, clear documentation, and correctness of your process.\n",
    "\n",
    "* *Completion (4pts)*: This is solely whether you attempted and completed all portions of the computational assignment.\n",
    "* *Documentation (4pts)*: Write comments above your code, describing what it does to demonstrate that you understand what the code is doing.\n",
    "* *Correctness (2pts)*: Does your code run and produce the correct output?\n"
   ]
  },
  {
   "cell_type": "markdown",
   "id": "2b56a3bd",
   "metadata": {},
   "source": [
    "# Playground!\n",
    "\n",
    "In this section you will be given a set of tasks to complete on your own, and you will have to figure out how to do them using the resources provided (videos, documentation, etc). This way you can learn at your own pace and also get used to looking up documentation and learning how to use new tools on your own.\n",
    "\n",
    "Note: We will have periodic check-ins through the class, just to make sure everyone atleast finishes a part of the activity before moving on!\n",
    "\n",
    "The very first task is to import the required packages, this lab we will work with ***arrays***, ***networks***, ***dataframes***, and ***plots***. (Hint: Packages are `numpy`, `networkx`, `polars`, and `matplotlib.pyplot`; Can you use comments to tell me what package is used to work with what?)\n",
    "\n",
    "Try importing the required libraries below (dont forget you can use the `as` keyword to give them a shorter alias):"
   ]
  },
  {
   "cell_type": "code",
   "execution_count": null,
   "id": "e1d3b6f7",
   "metadata": {},
   "outputs": [],
   "source": []
  },
  {
   "cell_type": "markdown",
   "id": "a5fff116",
   "metadata": {},
   "source": [
    "Great! Now we will import our data into python. To do this we can use `pl.read_csv`, this function takes in the filepath as an argument and creates a dataframe. See the example below:\n",
    "\n",
    "Assuming the file is stored in the same folder as this lab notebook.\n",
    "\n",
    "```python\n",
    "df = pl.read_csv(\"data_to_read.csv\")\n",
    "print(df)\n",
    "```\n",
    "Try importing the flight data file you downloaded into python!\n",
    "\n",
    "Sidenote: \n",
    "\n",
    "**What is a filepath?** \n",
    "\n",
    "The file path for a document is the sequence of directories that the computer must navigate to find the item. The easiest way to do this is with the relative file path; where the file exists relative to the script you are running. Some examples: (1) For a file that exists in the same folder as your script, the filepath is simply `\"data_to_read.csv\"`, (2) for a file in the directory above, the filepath is `\"../data_to_read.csv\"`, and (3) for a file in a sub-directory of the directory that you're currently in (say it's `data`), the filepath is `\"data/data_to_read.csv.\"` We can combine (2) and (3); for example `\"../data/flight_data/data_to_read.csv\"` describes navigating up one directory, then going in the `data` directory, then the `flight_data` subfolder where the data is located.\n",
    "\n",
    "**Some info about the dataset**\n",
    "\n",
    "This dataset is a yearly snapshot of flights among all commercial airports in the United States in 2025. Data include number of passengers (PASSENGERS), the unique carrier name (UNIQUE_CARRIER_NAME), the origin airport code (ORIGIN), and the destination airport code (DEST). Data come from Bureau of Transportation Statistics. “T-100 Domestic Market” https://www.transtats.bts.gov/"
   ]
  },
  {
   "cell_type": "code",
   "execution_count": null,
   "id": "8c16e22b",
   "metadata": {},
   "outputs": [],
   "source": []
  },
  {
   "cell_type": "markdown",
   "id": "284a2198",
   "metadata": {},
   "source": [
    "Amazing! We now have out data loaded into python. We can look at the size of this datafram using `df.shape`, the size of this dataframe comes out to `(80302, 8)` which means that we have a whopping `80000` rows! Today we won't be working with such a large dataset, so the next goal is to filter the dataset to a manageable size.\n",
    "\n",
    "To do that we will use the `filter` function in polars. See the example below:\n",
    "\n",
    "```python\n",
    "df_filtered = df.filter((pl.col(\"UNIQUE_CARRIER_NAME\") == \"JetBlue Airways\") & (pl.col(\"PASSENGERS\") <= 500))\n",
    "print(df_filtered)\n",
    "```\n",
    "Here, we created a new dataframe `df_filtered` and filtered for only `JetBlue Airways` with `<= 500` (less than or equal to 500) passengers.\n",
    "\n",
    "Sidenote: For more clarity on `filter`, in Polars `df.filter` (where \"df\" gets replaced with the name of your dataframe) is how we choose to keep only the rows that satisfy our criteria. Its equivalent to asking our DataFrame a `yes-or-no` question for each row and only keeping those that satisfy the `\"yes\"` answer.\n",
    "\n",
    "Try filtering for an airline of your choice or just copy the example!\n"
   ]
  },
  {
   "cell_type": "code",
   "execution_count": null,
   "id": "39cbddf8",
   "metadata": {},
   "outputs": [],
   "source": []
  },
  {
   "cell_type": "markdown",
   "id": "99617a0c",
   "metadata": {},
   "source": [
    "Now we will create a graph from our filtered dataset, for now we will only work with undirected graphs without multi-edges. This is because we only care about connectivity between airports. \n",
    "\n",
    "Note: On your own you can also try making a directed graph and doing the rest of the activities using that!\n",
    "\n",
    "So how do we create a graph from our dataframe? Have a look at the example below:\n",
    "\n",
    "```python\n",
    "G = nx.Graph()\n",
    "G.add_nodes_from(df_filtered['<Col Name>'])\n",
    "G.add_nodes_from(df_filtered['<Col Name>'])\n",
    "\n",
    "node_dict = {node: i for i, node in enumerate(list(G.nodes()))} # This is a complicated line of code, if you noticed our nodes would be strings of characters (like 'ATL') and not numbers. So when we go on to convet this graph into a adjacency matrix, we wont be able to just use the node name from edge list. A solution is to create a dictionary where each key is the node name and value is a number (imagine its an integer id for each airport). For this excercise please copy this code to create your graph.\n",
    "\n",
    "edge_list = df_filtered['<Col Name>', '<Col Name>'].iter_rows()\n",
    "\n",
    "G.add_edges_from(edge_list)\n",
    "nx.draw(G)\n",
    "```\n",
    "Note: For a directed graph you will need to create `nx.DiGraph()`.\n",
    "\n",
    "Today we want to focus on some more matrix stuff, so you can just copy the above code and use it to create your graph. But you will have to fill the column names yourself and comment this code for grading!"
   ]
  },
  {
   "cell_type": "code",
   "execution_count": null,
   "id": "d0d3143a",
   "metadata": {},
   "outputs": [],
   "source": []
  },
  {
   "cell_type": "markdown",
   "id": "5df8c2dc",
   "metadata": {},
   "source": [
    "Great! Now with this graph you should be able to create an adjacency matrix. Refactor the code from Lab 3 for this (`to_adj_v3`), create a function (name it `to_adj`) which take the graph AND the node dictinary (variable named `node_dict` in previous code cell) as the argument.\n",
    "\n",
    "Note: If you decided to work with a directed graph, then this function will need a few changes. Try and figure them out!\n",
    "\n",
    "Convert your graph to an adjacency matrix A."
   ]
  },
  {
   "cell_type": "code",
   "execution_count": null,
   "id": "edf8a14c",
   "metadata": {},
   "outputs": [],
   "source": []
  },
  {
   "cell_type": "markdown",
   "id": "f38cfd36",
   "metadata": {},
   "source": [
    "Now we have our matrix! We can use the adjacency matrix and matrix multiplications to travel through a network. \n",
    "\n",
    "For now we think of an adjacency matrix as just representing the connections between nodes, but you can also think about it in terms of traversal. If you think about walking on a graph, each `1` in the adjacency matrix means you can reach that node in one step. \n",
    "\n",
    "Multiplying a matrix with itself ($A^2$) gives you the nodes you can reach in two steps. In the same way, $A^k$ gives you a matrix which tells you about the nodes you can reach in `k` steps.\n",
    "\n",
    "Lets try this with our adjacency matrix, use a loop to iteratively multiply the matrix by itself and run the loop `5` times. Print out the number of non-zero elements in the matrix for each iteration, this could represent how many new edges are reached with increase in # steps (To print the number of non-zero elements, you can use `np.count_nonzero()`).\n",
    "\n",
    "Hint: You will need to create a copy of you adjacency matrix which will change its value with each run of the loop, below is an example code for multiplying a single integer by itself, try and adapt it for matrices.\n",
    "\n",
    "```python\n",
    "a = 10 # our focal number\n",
    "b = a.copy() # copying a to b\n",
    "for i in range(10):\n",
    "    b = b * a # For each iteration I multiply my number by itself, b is what i get each time I multiply a with a.\n",
    "    print(b) # Printing the value of b each time.\n",
    "```"
   ]
  },
  {
   "cell_type": "code",
   "execution_count": null,
   "id": "b1c65655",
   "metadata": {},
   "outputs": [],
   "source": []
  },
  {
   "cell_type": "markdown",
   "id": "67c0e7cc",
   "metadata": {},
   "source": [
    "You might notice that sometimes after one iteration, an entry which was previously non-zero might end up becoming zero. These are what are called as cycles, imagine having a loop of 3 nodes, with one step you are just switching between the 3 nodes and stuck in a cycle even though you have already visited those nodes before.\n",
    "\n",
    "Then how do you tell when you have travelled to each node atleast once? Easy, you just add all your results, so you get a new matrix, say, $R = A + A^2 + A^3 + ... + A^N$. When this matrix has no non-zero elements, then that means you have travelled to each node atleast once."
   ]
  },
  {
   "cell_type": "code",
   "execution_count": 1,
   "id": "7a82d323",
   "metadata": {},
   "outputs": [
    {
     "name": "stdout",
     "output_type": "stream",
     "text": [
      "[[0 0 1]\n",
      " [1 0 0]\n",
      " [0 1 0]]\n",
      "[[1 0 0]\n",
      " [0 1 0]\n",
      " [0 0 1]]\n",
      "[[0 1 0]\n",
      " [0 0 1]\n",
      " [1 0 0]]\n",
      "[[0 0 1]\n",
      " [1 0 0]\n",
      " [0 1 0]]\n",
      "[[1 0 0]\n",
      " [0 1 0]\n",
      " [0 0 1]]\n"
     ]
    }
   ],
   "source": [
    "# Example code: Run as is\n",
    "import numpy as np\n",
    "# This code shows how a cycle of nodes can get you stuck\n",
    "A = np.array([[0, 1, 0], # node 1 is connected to node 2\n",
    "              [0, 0, 1], # node 2 is connected to node 3\n",
    "              [1, 0, 0]]) # node 3 is connected to node 1\n",
    "# Note that A is the adj matrix for a directed graph, its asymmetric\n",
    "M = A.copy()\n",
    "for i in range(5):\n",
    "    M = M @ A\n",
    "    print(M) # Notice how an element which was 1 before becomes 0? \n",
    "# Now you cant tell by looking at A^k that at that step you visited all the nodes atleast once."
   ]
  },
  {
   "cell_type": "markdown",
   "id": "6a3f85f3",
   "metadata": {},
   "source": [
    "Now you have to create a function where as you multiply in each iteration of your loop, you also add the results to another matrix `R`.\n",
    "\n",
    "Hint: You can initialise `R` using `A.copy()` as well."
   ]
  },
  {
   "cell_type": "code",
   "execution_count": null,
   "id": "52e8ad92",
   "metadata": {},
   "outputs": [],
   "source": []
  },
  {
   "cell_type": "markdown",
   "id": "b8a0d9cc",
   "metadata": {},
   "source": [
    "What does the matrix `R` without any `0s` even tell you? It tells you that you have visited each node atleast once by that step. The smallest step size which gives you a non-zero `R` is the diameter of your network!\n",
    "\n",
    "Lets create a function to do this! Create a function which takes an adjacency matrix as its argument. Have the function return the diameter of this network!\n",
    "\n",
    "Hint: You might have to use a `while` loop alongside a new function `np.all`. Search online for how to use them! If you get stuck call me over for help."
   ]
  },
  {
   "cell_type": "code",
   "execution_count": null,
   "id": "0d5c99fc",
   "metadata": {},
   "outputs": [],
   "source": []
  },
  {
   "cell_type": "markdown",
   "id": "c7d96349",
   "metadata": {},
   "source": [
    "# Extra Credit\n",
    "Lets now try and find the eigenvector for our network! The principal Eigenvector of an adjacency matrix can be thought of as another way to measure centrality. The degree of a node tells you how many nodes are connected to it, but the eigenvector centrality of a node tells you how many nodes it connects to and how influential these neighbours are (so it is high for nodes whose neighbours also have high degrees).\n",
    "\n",
    "We can approximate this vector using loops and numpy, lets approach the problem one step at a time. \n",
    "\n",
    "Big NOTE: The following stuff is EXTRA CREDIT!!!! I will outline the steps of finding the principal eigenvector for an adjacency matrix, but after that you are on your own. The rubric for extra credit is as follows:\n",
    "* Completion (0.5 Pts): If you just attempt it, you get 0.5 extra credit.\n",
    "* Documentation (0.5 Pts): Comment your code properly and get 0.5 more point!\n",
    "* Correctness (1 Pts): If the output is correct then amazing! You get 1 more point.\n",
    "\n",
    "# Steps\n",
    "\n",
    "1. To start approximating our eigenvector we fist need to create an initial approximation. Simplest approximation is to just have a vector of ones. So use `np.ones` to create a vector with shape `(n, 1)` where n is number of nodes in our graph/adj matrix.\n",
    "2. Normalize this initial approximation (to find the norm you can use `np.linalg.norm()`)\n",
    "3. Loop for a certain number of iterations (for starters you can use `25` iterations).\n",
    "4. In each iteration, calculate `v = A @ v`, here `v` is our approximation.\n",
    "5. Record its norm in a list and then normalize the vector.\n",
    "6. repeat for the number of iterations.\n",
    "7. In the end plot the list of norms as a graph, which step did your eigenvector converge on?\n"
   ]
  },
  {
   "cell_type": "code",
   "execution_count": null,
   "id": "15b90aee",
   "metadata": {},
   "outputs": [],
   "source": []
  },
  {
   "cell_type": "markdown",
   "id": "3ff406e0",
   "metadata": {},
   "source": [
    "**After the completion of this lab**\n",
    "1. List the people with whom you worked on this lab.\n",
    "2. Make a pull request and title it \"Grade Computational Activity 2\".\n",
    "3. Assign @AbhayGupta115 as a reviewer.\n",
    "4. Submit the pull request.\n",
    "5. Go to Canvas, and submit a link to your PR (Just copy the url on the PR page) under the assignments tab."
   ]
  },
  {
   "cell_type": "code",
   "execution_count": null,
   "id": "59e1c910",
   "metadata": {},
   "outputs": [],
   "source": []
  }
 ],
 "metadata": {
  "kernelspec": {
   "display_name": "biol4559",
   "language": "python",
   "name": "python3"
  },
  "language_info": {
   "codemirror_mode": {
    "name": "ipython",
    "version": 3
   },
   "file_extension": ".py",
   "mimetype": "text/x-python",
   "name": "python",
   "nbconvert_exporter": "python",
   "pygments_lexer": "ipython3",
   "version": "3.13.5"
  }
 },
 "nbformat": 4,
 "nbformat_minor": 5
}
